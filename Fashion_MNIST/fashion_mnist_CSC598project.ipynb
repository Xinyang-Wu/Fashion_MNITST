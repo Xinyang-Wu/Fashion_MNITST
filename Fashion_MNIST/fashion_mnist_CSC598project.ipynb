{
 "cells": [
  {
   "cell_type": "code",
   "execution_count": 1,
   "metadata": {
    "colab": {
     "base_uri": "https://localhost:8080/",
     "height": 53
    },
    "colab_type": "code",
    "id": "2EwcLhPXY_Qj",
    "outputId": "53611761-459a-4fc6-8875-e7a64e90f519"
   },
   "outputs": [],
   "source": [
    "import pandas as pd\n",
    "import numpy as np\n",
    "import matplotlib.pyplot as plt\n",
    "import seaborn as sn\n",
    "from random import randint\n",
    "from sklearn import linear_model\n",
    "from sklearn import metrics"
   ]
  },
  {
   "cell_type": "markdown",
   "metadata": {},
   "source": [
    "# Import the data"
   ]
  },
  {
   "cell_type": "code",
   "execution_count": 2,
   "metadata": {
    "colab": {
     "base_uri": "https://localhost:8080/",
     "height": 253
    },
    "colab_type": "code",
    "id": "YvBhh9lwY_Qm",
    "outputId": "fc0e99f3-dd18-40e4-bbaa-3aae20fa8179"
   },
   "outputs": [
    {
     "data": {
      "text/html": [
       "<div>\n",
       "<style scoped>\n",
       "    .dataframe tbody tr th:only-of-type {\n",
       "        vertical-align: middle;\n",
       "    }\n",
       "\n",
       "    .dataframe tbody tr th {\n",
       "        vertical-align: top;\n",
       "    }\n",
       "\n",
       "    .dataframe thead th {\n",
       "        text-align: right;\n",
       "    }\n",
       "</style>\n",
       "<table border=\"1\" class=\"dataframe\">\n",
       "  <thead>\n",
       "    <tr style=\"text-align: right;\">\n",
       "      <th></th>\n",
       "      <th>label</th>\n",
       "      <th>pixel1</th>\n",
       "      <th>pixel2</th>\n",
       "      <th>pixel3</th>\n",
       "      <th>pixel4</th>\n",
       "      <th>pixel5</th>\n",
       "      <th>pixel6</th>\n",
       "      <th>pixel7</th>\n",
       "      <th>pixel8</th>\n",
       "      <th>pixel9</th>\n",
       "      <th>...</th>\n",
       "      <th>pixel775</th>\n",
       "      <th>pixel776</th>\n",
       "      <th>pixel777</th>\n",
       "      <th>pixel778</th>\n",
       "      <th>pixel779</th>\n",
       "      <th>pixel780</th>\n",
       "      <th>pixel781</th>\n",
       "      <th>pixel782</th>\n",
       "      <th>pixel783</th>\n",
       "      <th>pixel784</th>\n",
       "    </tr>\n",
       "  </thead>\n",
       "  <tbody>\n",
       "    <tr>\n",
       "      <td>0</td>\n",
       "      <td>2</td>\n",
       "      <td>0</td>\n",
       "      <td>0</td>\n",
       "      <td>0</td>\n",
       "      <td>0</td>\n",
       "      <td>0</td>\n",
       "      <td>0</td>\n",
       "      <td>0</td>\n",
       "      <td>0</td>\n",
       "      <td>0</td>\n",
       "      <td>...</td>\n",
       "      <td>0</td>\n",
       "      <td>0</td>\n",
       "      <td>0</td>\n",
       "      <td>0</td>\n",
       "      <td>0</td>\n",
       "      <td>0</td>\n",
       "      <td>0</td>\n",
       "      <td>0</td>\n",
       "      <td>0</td>\n",
       "      <td>0</td>\n",
       "    </tr>\n",
       "    <tr>\n",
       "      <td>1</td>\n",
       "      <td>9</td>\n",
       "      <td>0</td>\n",
       "      <td>0</td>\n",
       "      <td>0</td>\n",
       "      <td>0</td>\n",
       "      <td>0</td>\n",
       "      <td>0</td>\n",
       "      <td>0</td>\n",
       "      <td>0</td>\n",
       "      <td>0</td>\n",
       "      <td>...</td>\n",
       "      <td>0</td>\n",
       "      <td>0</td>\n",
       "      <td>0</td>\n",
       "      <td>0</td>\n",
       "      <td>0</td>\n",
       "      <td>0</td>\n",
       "      <td>0</td>\n",
       "      <td>0</td>\n",
       "      <td>0</td>\n",
       "      <td>0</td>\n",
       "    </tr>\n",
       "    <tr>\n",
       "      <td>2</td>\n",
       "      <td>6</td>\n",
       "      <td>0</td>\n",
       "      <td>0</td>\n",
       "      <td>0</td>\n",
       "      <td>0</td>\n",
       "      <td>0</td>\n",
       "      <td>0</td>\n",
       "      <td>0</td>\n",
       "      <td>5</td>\n",
       "      <td>0</td>\n",
       "      <td>...</td>\n",
       "      <td>0</td>\n",
       "      <td>0</td>\n",
       "      <td>0</td>\n",
       "      <td>30</td>\n",
       "      <td>43</td>\n",
       "      <td>0</td>\n",
       "      <td>0</td>\n",
       "      <td>0</td>\n",
       "      <td>0</td>\n",
       "      <td>0</td>\n",
       "    </tr>\n",
       "    <tr>\n",
       "      <td>3</td>\n",
       "      <td>0</td>\n",
       "      <td>0</td>\n",
       "      <td>0</td>\n",
       "      <td>0</td>\n",
       "      <td>1</td>\n",
       "      <td>2</td>\n",
       "      <td>0</td>\n",
       "      <td>0</td>\n",
       "      <td>0</td>\n",
       "      <td>0</td>\n",
       "      <td>...</td>\n",
       "      <td>3</td>\n",
       "      <td>0</td>\n",
       "      <td>0</td>\n",
       "      <td>0</td>\n",
       "      <td>0</td>\n",
       "      <td>1</td>\n",
       "      <td>0</td>\n",
       "      <td>0</td>\n",
       "      <td>0</td>\n",
       "      <td>0</td>\n",
       "    </tr>\n",
       "    <tr>\n",
       "      <td>4</td>\n",
       "      <td>3</td>\n",
       "      <td>0</td>\n",
       "      <td>0</td>\n",
       "      <td>0</td>\n",
       "      <td>0</td>\n",
       "      <td>0</td>\n",
       "      <td>0</td>\n",
       "      <td>0</td>\n",
       "      <td>0</td>\n",
       "      <td>0</td>\n",
       "      <td>...</td>\n",
       "      <td>0</td>\n",
       "      <td>0</td>\n",
       "      <td>0</td>\n",
       "      <td>0</td>\n",
       "      <td>0</td>\n",
       "      <td>0</td>\n",
       "      <td>0</td>\n",
       "      <td>0</td>\n",
       "      <td>0</td>\n",
       "      <td>0</td>\n",
       "    </tr>\n",
       "  </tbody>\n",
       "</table>\n",
       "<p>5 rows × 785 columns</p>\n",
       "</div>"
      ],
      "text/plain": [
       "   label  pixel1  pixel2  pixel3  pixel4  pixel5  pixel6  pixel7  pixel8  \\\n",
       "0      2       0       0       0       0       0       0       0       0   \n",
       "1      9       0       0       0       0       0       0       0       0   \n",
       "2      6       0       0       0       0       0       0       0       5   \n",
       "3      0       0       0       0       1       2       0       0       0   \n",
       "4      3       0       0       0       0       0       0       0       0   \n",
       "\n",
       "   pixel9  ...  pixel775  pixel776  pixel777  pixel778  pixel779  pixel780  \\\n",
       "0       0  ...         0         0         0         0         0         0   \n",
       "1       0  ...         0         0         0         0         0         0   \n",
       "2       0  ...         0         0         0        30        43         0   \n",
       "3       0  ...         3         0         0         0         0         1   \n",
       "4       0  ...         0         0         0         0         0         0   \n",
       "\n",
       "   pixel781  pixel782  pixel783  pixel784  \n",
       "0         0         0         0         0  \n",
       "1         0         0         0         0  \n",
       "2         0         0         0         0  \n",
       "3         0         0         0         0  \n",
       "4         0         0         0         0  \n",
       "\n",
       "[5 rows x 785 columns]"
      ]
     },
     "execution_count": 2,
     "metadata": {},
     "output_type": "execute_result"
    }
   ],
   "source": [
    "# import training dataset\n",
    "dataset = pd.read_csv('fashion-mnist_train.csv')\n",
    "dataset.head()"
   ]
  },
  {
   "cell_type": "code",
   "execution_count": 3,
   "metadata": {},
   "outputs": [],
   "source": [
    "# import testing dataset\n",
    "testset = pd.read_csv('fashion-mnist_test.csv')"
   ]
  },
  {
   "cell_type": "markdown",
   "metadata": {},
   "source": [
    "# Define the data input X, and target Y"
   ]
  },
  {
   "cell_type": "code",
   "execution_count": 22,
   "metadata": {
    "colab": {},
    "colab_type": "code",
    "id": "AZ53V7jyY_Qo"
   },
   "outputs": [],
   "source": [
    "#X is the input feature\n",
    "X = dataset[dataset.columns[1:]]\n",
    "#Y is the target/class label\n",
    "Y = np.array(dataset['label'])"
   ]
  },
  {
   "cell_type": "markdown",
   "metadata": {},
   "source": [
    "# Show some of the images"
   ]
  },
  {
   "cell_type": "code",
   "execution_count": 5,
   "metadata": {
    "colab": {
     "base_uri": "https://localhost:8080/",
     "height": 1000
    },
    "colab_type": "code",
    "id": "gYnwlSfgbm_o",
    "outputId": "bee8b23d-332b-48e3-fb08-e2747f2cfd6e"
   },
   "outputs": [
    {
     "name": "stdout",
     "output_type": "stream",
     "text": [
      "T-shirt/top\n"
     ]
    },
    {
     "data": {
      "image/png": "[encoded data removed]",
      "text/plain": [
       "<Figure size 432x288 with 1 Axes>"
      ]
     },
     "metadata": {
      "needs_background": "light"
     },
     "output_type": "display_data"
    },
    {
     "name": "stdout",
     "output_type": "stream",
     "text": [
      "Ankle boot\n"
     ]
    },
    {
     "data": {
      "image/png": "[encoded data removed]",
      "text/plain": [
       "<Figure size 432x288 with 1 Axes>"
      ]
     },
     "metadata": {
      "needs_background": "light"
     },
     "output_type": "display_data"
    },
    {
     "name": "stdout",
     "output_type": "stream",
     "text": [
      "Sandal\n"
     ]
    },
    {
     "data": {
      "image/png": "[encoded data removed]",
      "text/plain": [
       "<Figure size 432x288 with 1 Axes>"
      ]
     },
     "metadata": {
      "needs_background": "light"
     },
     "output_type": "display_data"
    },
    {
     "name": "stdout",
     "output_type": "stream",
     "text": [
      "Pullover\n"
     ]
    },
    {
     "data": {
      "image/png": "[encoded data removed]",
      "text/plain": [
       "<Figure size 432x288 with 1 Axes>"
      ]
     },
     "metadata": {
      "needs_background": "light"
     },
     "output_type": "display_data"
    },
    {
     "name": "stdout",
     "output_type": "stream",
     "text": [
      "Ankle boot\n"
     ]
    },
    {
     "data": {
      "image/png": "[encoded data removed]",
      "text/plain": [
       "<Figure size 432x288 with 1 Axes>"
      ]
     },
     "metadata": {
      "needs_background": "light"
     },
     "output_type": "display_data"
    }
   ],
   "source": [
    "# create a sample of images from the dataset\n",
    "classes = {0: 'T-shirt/top', 1:'Trouser', 2: 'Pullover', 3:'Dress', 4:'Coat', 5:'Sandal', 6:'Shirt', 7:'Sneaker', 8:'Bag', 9:'Ankle boot'}\n",
    "for i in range(0, 5):\n",
    "    #choose a random one from training set\n",
    "    sample = randint(0, X.shape[0])                \n",
    "    print(classes[Y[sample]])\n",
    "    image = (X.iloc[sample].values.reshape(28, 28))\n",
    "    plt.imshow(image, cmap='gray')\n",
    "    plt.show()"
   ]
  },
  {
   "cell_type": "code",
   "execution_count": 6,
   "metadata": {
    "colab": {},
    "colab_type": "code",
    "id": "pFrgNX2gY_Qr"
   },
   "outputs": [],
   "source": [
    "#X = X/255"
   ]
  },
  {
   "cell_type": "markdown",
   "metadata": {},
   "source": [
    "# Split the imported data to training, testing and validation set"
   ]
  },
  {
   "cell_type": "code",
   "execution_count": 23,
   "metadata": {
    "colab": {
     "base_uri": "https://localhost:8080/",
     "height": 71
    },
    "colab_type": "code",
    "id": "QTEhAaQdY_Qu",
    "outputId": "67e18d86-e510-47ab-9761-c2bd2e319c5d"
   },
   "outputs": [
    {
     "name": "stdout",
     "output_type": "stream",
     "text": [
      "train: (54000, 784) (54000,)\n",
      "validation: (6000, 784) (6000,)\n",
      "test: (10000, 784) (10000,)\n"
     ]
    }
   ],
   "source": [
    "X_train = dataset[dataset.columns[1:]]\n",
    "Y_train = np.array(dataset['label'])\n",
    "X_test = testset[dataset.columns[1:]]\n",
    "Y_test = np.array(testset['label'])\n",
    "#split data into training and validation set\n",
    "from sklearn.model_selection import train_test_split\n",
    "#split X_train and Y_train into a 'pure' training set and a validation set\n",
    "X_train, X_val, Y_train, Y_val = train_test_split(X_train, Y_train, test_size=0.1, random_state=0)\n",
    "\n",
    "\n",
    "print('train:', X_train.shape, Y_train.shape)\n",
    "print('validation:', X_val.shape, Y_val.shape)\n",
    "print('test:', X_test.shape, Y_test.shape)"
   ]
  },
  {
   "cell_type": "markdown",
   "metadata": {},
   "source": [
    "# Normalization"
   ]
  },
  {
   "cell_type": "code",
   "execution_count": 24,
   "metadata": {
    "colab": {},
    "colab_type": "code",
    "id": "EfthcSj5Y_Qz"
   },
   "outputs": [],
   "source": [
    "#apply feature normalization to training, validation and test sets\n",
    "from sklearn.preprocessing import MinMaxScaler\n",
    "scaler=MinMaxScaler()\n",
    "scaler.fit(X_train)\n",
    "X_train=scaler.transform(X_train)\n",
    "X_val=scaler.transform(X_val)\n",
    "X_test=scaler.transform(X_test)"
   ]
  },
  {
   "cell_type": "markdown",
   "metadata": {},
   "source": [
    "# First model: Logistic Regression"
   ]
  },
  {
   "cell_type": "code",
   "execution_count": 10,
   "metadata": {
    "colab": {},
    "colab_type": "code",
    "id": "-Psb67sDY_Qw"
   },
   "outputs": [],
   "source": [
    "#define model\n",
    "from sklearn.linear_model import LogisticRegression\n",
    "model = LogisticRegression(solver='newton-cg',max_iter=1000,multi_class='multinomial')"
   ]
  },
  {
   "cell_type": "code",
   "execution_count": 11,
   "metadata": {
    "colab": {
     "base_uri": "https://localhost:8080/",
     "height": 107
    },
    "colab_type": "code",
    "id": "r-CjVaXrY_Q3",
    "outputId": "1651d161-a23f-4a0d-8d8a-18ee1f12517a"
   },
   "outputs": [
    {
     "data": {
      "text/plain": [
       "LogisticRegression(C=1.0, class_weight=None, dual=False, fit_intercept=True,\n",
       "                   intercept_scaling=1, l1_ratio=None, max_iter=1000,\n",
       "                   multi_class='multinomial', n_jobs=None, penalty='l2',\n",
       "                   random_state=None, solver='newton-cg', tol=0.0001, verbose=0,\n",
       "                   warm_start=False)"
      ]
     },
     "execution_count": 11,
     "metadata": {},
     "output_type": "execute_result"
    }
   ],
   "source": [
    "model.fit(X_train,Y_train)"
   ]
  },
  {
   "cell_type": "code",
   "execution_count": 12,
   "metadata": {
    "colab": {
     "base_uri": "https://localhost:8080/",
     "height": 35
    },
    "colab_type": "code",
    "id": "Poe82mSBaI54",
    "outputId": "7ae7f149-29fa-4440-8983-e2a507317dfe"
   },
   "outputs": [
    {
     "data": {
      "text/plain": [
       "0.8538"
      ]
     },
     "execution_count": 12,
     "metadata": {},
     "output_type": "execute_result"
    }
   ],
   "source": [
    "model.score(X_test, Y_test)"
   ]
  },
  {
   "cell_type": "code",
   "execution_count": 13,
   "metadata": {
    "colab": {
     "base_uri": "https://localhost:8080/",
     "height": 35
    },
    "colab_type": "code",
    "id": "4yG_VlBFcHlo",
    "outputId": "040245c6-a9c1-4b91-cbdb-2d87923d83df"
   },
   "outputs": [
    {
     "data": {
      "text/plain": [
       "array([0, 1, 2, ..., 8, 6, 1], dtype=int64)"
      ]
     },
     "execution_count": 13,
     "metadata": {},
     "output_type": "execute_result"
    }
   ],
   "source": [
    "model.predict(X_test)"
   ]
  },
  {
   "cell_type": "code",
   "execution_count": 36,
   "metadata": {
    "colab": {},
    "colab_type": "code",
    "id": "lUH_AUBLfiJf"
   },
   "outputs": [],
   "source": [
    "# I used the weighted classification accuracy\n",
    "def weighted_accuracy(confusion):\n",
    "    #input: confusion is the confusion matrix\n",
    "    #output: acc is the weighted classification accuracy\n",
    "    M=confusion.copy().astype('float32')\n",
    "    for k in range(0, M.shape[0]):\n",
    "        M[k]/=M[k].sum()+1e-8    \n",
    "    acc = M.diagonal().sum()/M.sum()\n",
    "    return acc"
   ]
  },
  {
   "cell_type": "code",
   "execution_count": 15,
   "metadata": {
    "colab": {
     "base_uri": "https://localhost:8080/",
     "height": 921
    },
    "colab_type": "code",
    "id": "BQ4xfUQ4c9NZ",
    "outputId": "2f70d065-06e7-401c-a0d2-c0b891f14cd5"
   },
   "outputs": [
    {
     "name": "stdout",
     "output_type": "stream",
     "text": [
      "classification accuracy on validation set is  0.85510826\n",
      "classification accuracy on test set is  0.8538\n"
     ]
    },
    {
     "data": {
      "text/plain": [
       "Text(69.0, 0.5, 'Truth')"
      ]
     },
     "execution_count": 15,
     "metadata": {},
     "output_type": "execute_result"
    },
    {
     "data": {
      "image/png": "[encoded data removed]",
      "text/plain": [
       "<Figure size 720x504 with 1 Axes>"
      ]
     },
     "metadata": {
      "needs_background": "light"
     },
     "output_type": "display_data"
    },
    {
     "data": {
      "image/png": "[encoded data removed]",
      "text/plain": [
       "<Figure size 720x504 with 1 Axes>"
      ]
     },
     "metadata": {
      "needs_background": "light"
     },
     "output_type": "display_data"
    }
   ],
   "source": [
    "#confusion matrix\n",
    "from sklearn.metrics import confusion_matrix\n",
    "#confusion matrix for validation set\n",
    "Y_val_pred=model.predict(X_val)\n",
    "confusion_val=confusion_matrix(Y_val, Y_val_pred)\n",
    "acc_val=weighted_accuracy(confusion_val)\n",
    "print('classification accuracy on validation set is ', acc_val)\n",
    "#plot confusion matrix using seanborn to see the details of wrong classified\n",
    "plt.figure(figsize = (10, 7))\n",
    "sn.heatmap(confusion_val, annot=True,cbar=False, fmt='g')\n",
    "plt.xlabel('Predicted')\n",
    "plt.ylabel('Truth')\n",
    "#confusion matrix for test set\n",
    "Y_test_pred=model.predict(X_test)\n",
    "confusion_test=confusion_matrix(Y_test, Y_test_pred)\n",
    "acc_test=weighted_accuracy(confusion_test)\n",
    "print('classification accuracy on test set is ', acc_test)\n",
    "#plot confusion matrix using seanborn\n",
    "plt.figure(figsize = (10, 7))\n",
    "sn.heatmap(confusion_test, annot=True,cbar=False, fmt='g')\n",
    "plt.xlabel('Predicted')\n",
    "plt.ylabel('Truth')"
   ]
  },
  {
   "cell_type": "markdown",
   "metadata": {},
   "source": [
    "Using the grid search to do hyperparameters tuning"
   ]
  },
  {
   "cell_type": "code",
   "execution_count": 21,
   "metadata": {
    "colab": {},
    "colab_type": "code",
    "id": "1X6rYuyQfzOj"
   },
   "outputs": [],
   "source": [
    "# Set up the parameter\n",
    "#modify solver, iteration times and different multiclass \n",
    "LR_model_hyperparameters = [\n",
    " { \n",
    "  'C':[0.5,1,2],\n",
    "  'solver': ['newton-cg','sag'],\n",
    "  'max_iter':[1000,5000],\n",
    "  'multi_class': ['auto']\n",
    "  }\n",
    "]"
   ]
  },
  {
   "cell_type": "code",
   "execution_count": 22,
   "metadata": {
    "colab": {
     "base_uri": "https://localhost:8080/",
     "height": 341
    },
    "colab_type": "code",
    "id": "iGjCnjnz6wZa",
    "outputId": "9d259dca-58fa-497b-fd3d-3495db8de07f"
   },
   "outputs": [
    {
     "name": "stdout",
     "output_type": "stream",
     "text": [
      "Fitting 2 folds for each of 12 candidates, totalling 24 fits\n",
      "[CV] C=0.5, max_iter=1000, multi_class=auto, solver=newton-cg ........\n"
     ]
    },
    {
     "name": "stderr",
     "output_type": "stream",
     "text": [
      "[Parallel(n_jobs=1)]: Using backend SequentialBackend with 1 concurrent workers.\n"
     ]
    },
    {
     "name": "stdout",
     "output_type": "stream",
     "text": [
      "[CV]  C=0.5, max_iter=1000, multi_class=auto, solver=newton-cg, total=  40.5s\n",
      "[CV] C=0.5, max_iter=1000, multi_class=auto, solver=newton-cg ........\n"
     ]
    },
    {
     "name": "stderr",
     "output_type": "stream",
     "text": [
      "[Parallel(n_jobs=1)]: Done   1 out of   1 | elapsed:   40.5s remaining:    0.0s\n"
     ]
    },
    {
     "name": "stdout",
     "output_type": "stream",
     "text": [
      "[CV]  C=0.5, max_iter=1000, multi_class=auto, solver=newton-cg, total=  41.5s\n",
      "[CV] C=0.5, max_iter=1000, multi_class=auto, solver=sag ..............\n",
      "[CV]  C=0.5, max_iter=1000, multi_class=auto, solver=sag, total= 2.0min\n",
      "[CV] C=0.5, max_iter=1000, multi_class=auto, solver=sag ..............\n",
      "[CV]  C=0.5, max_iter=1000, multi_class=auto, solver=sag, total= 2.4min\n",
      "[CV] C=0.5, max_iter=5000, multi_class=auto, solver=newton-cg ........\n",
      "[CV]  C=0.5, max_iter=5000, multi_class=auto, solver=newton-cg, total=  40.9s\n",
      "[CV] C=0.5, max_iter=5000, multi_class=auto, solver=newton-cg ........\n",
      "[CV]  C=0.5, max_iter=5000, multi_class=auto, solver=newton-cg, total=  41.5s\n",
      "[CV] C=0.5, max_iter=5000, multi_class=auto, solver=sag ..............\n",
      "[CV]  C=0.5, max_iter=5000, multi_class=auto, solver=sag, total= 2.1min\n",
      "[CV] C=0.5, max_iter=5000, multi_class=auto, solver=sag ..............\n",
      "[CV]  C=0.5, max_iter=5000, multi_class=auto, solver=sag, total= 2.4min\n",
      "[CV] C=1, max_iter=1000, multi_class=auto, solver=newton-cg ..........\n",
      "[CV]  C=1, max_iter=1000, multi_class=auto, solver=newton-cg, total=  49.4s\n",
      "[CV] C=1, max_iter=1000, multi_class=auto, solver=newton-cg ..........\n",
      "[CV]  C=1, max_iter=1000, multi_class=auto, solver=newton-cg, total=  45.6s\n",
      "[CV] C=1, max_iter=1000, multi_class=auto, solver=sag ................\n",
      "[CV] . C=1, max_iter=1000, multi_class=auto, solver=sag, total= 3.5min\n",
      "[CV] C=1, max_iter=1000, multi_class=auto, solver=sag ................\n",
      "[CV] . C=1, max_iter=1000, multi_class=auto, solver=sag, total= 4.0min\n",
      "[CV] C=1, max_iter=5000, multi_class=auto, solver=newton-cg ..........\n",
      "[CV]  C=1, max_iter=5000, multi_class=auto, solver=newton-cg, total=  45.7s\n",
      "[CV] C=1, max_iter=5000, multi_class=auto, solver=newton-cg ..........\n",
      "[CV]  C=1, max_iter=5000, multi_class=auto, solver=newton-cg, total=  41.4s\n",
      "[CV] C=1, max_iter=5000, multi_class=auto, solver=sag ................\n",
      "[CV] . C=1, max_iter=5000, multi_class=auto, solver=sag, total= 3.4min\n",
      "[CV] C=1, max_iter=5000, multi_class=auto, solver=sag ................\n",
      "[CV] . C=1, max_iter=5000, multi_class=auto, solver=sag, total= 4.0min\n",
      "[CV] C=2, max_iter=1000, multi_class=auto, solver=newton-cg ..........\n",
      "[CV]  C=2, max_iter=1000, multi_class=auto, solver=newton-cg, total= 1.1min\n",
      "[CV] C=2, max_iter=1000, multi_class=auto, solver=newton-cg ..........\n",
      "[CV]  C=2, max_iter=1000, multi_class=auto, solver=newton-cg, total=  53.0s\n",
      "[CV] C=2, max_iter=1000, multi_class=auto, solver=sag ................\n",
      "[CV] . C=2, max_iter=1000, multi_class=auto, solver=sag, total= 5.6min\n",
      "[CV] C=2, max_iter=1000, multi_class=auto, solver=sag ................\n",
      "[CV] . C=2, max_iter=1000, multi_class=auto, solver=sag, total= 6.3min\n",
      "[CV] C=2, max_iter=5000, multi_class=auto, solver=newton-cg ..........\n",
      "[CV]  C=2, max_iter=5000, multi_class=auto, solver=newton-cg, total= 1.3min\n",
      "[CV] C=2, max_iter=5000, multi_class=auto, solver=newton-cg ..........\n",
      "[CV]  C=2, max_iter=5000, multi_class=auto, solver=newton-cg, total= 1.0min\n",
      "[CV] C=2, max_iter=5000, multi_class=auto, solver=sag ................\n",
      "[CV] . C=2, max_iter=5000, multi_class=auto, solver=sag, total= 5.6min\n",
      "[CV] C=2, max_iter=5000, multi_class=auto, solver=sag ................\n",
      "[CV] . C=2, max_iter=5000, multi_class=auto, solver=sag, total= 7.0min\n"
     ]
    },
    {
     "name": "stderr",
     "output_type": "stream",
     "text": [
      "[Parallel(n_jobs=1)]: Done  24 out of  24 | elapsed: 58.5min finished\n"
     ]
    }
   ],
   "source": [
    "from sklearn.model_selection import GridSearchCV\n",
    "# Perform the search\n",
    "LR_tuned_model = GridSearchCV(LogisticRegression(), LR_model_hyperparameters, cv=2, verbose = 2)\n",
    "LR_tuned_model.fit(X_train, Y_train)\n",
    "\n",
    "# Print details\n",
    "hyperparameters_list = dict()\n",
    "hyperparameters_list[''] = LR_tuned_model.best_params_"
   ]
  },
  {
   "cell_type": "code",
   "execution_count": 23,
   "metadata": {
    "colab": {
     "base_uri": "https://localhost:8080/",
     "height": 35
    },
    "colab_type": "code",
    "id": "5C-o7mHe2DWT",
    "outputId": "d511c07a-d988-4afb-cfa3-8941498880f3"
   },
   "outputs": [
    {
     "name": "stdout",
     "output_type": "stream",
     "text": [
      "0.8495\n"
     ]
    }
   ],
   "source": [
    "print(LR_tuned_model.best_score_)"
   ]
  },
  {
   "cell_type": "code",
   "execution_count": 24,
   "metadata": {},
   "outputs": [
    {
     "name": "stdout",
     "output_type": "stream",
     "text": [
      "LogisticRegression(C=0.5, class_weight=None, dual=False, fit_intercept=True,\n",
      "                   intercept_scaling=1, l1_ratio=None, max_iter=1000,\n",
      "                   multi_class='auto', n_jobs=None, penalty='l2',\n",
      "                   random_state=None, solver='newton-cg', tol=0.0001, verbose=0,\n",
      "                   warm_start=False)\n"
     ]
    }
   ],
   "source": [
    "print(LR_tuned_model.best_estimator_)"
   ]
  },
  {
   "cell_type": "code",
   "execution_count": 25,
   "metadata": {
    "colab": {
     "base_uri": "https://localhost:8080/",
     "height": 35
    },
    "colab_type": "code",
    "id": "d_fGjeTCy9Uh",
    "outputId": "b37e3936-914d-479c-ac3a-4447747c8f2e"
   },
   "outputs": [
    {
     "name": "stdout",
     "output_type": "stream",
     "text": [
      "Accuracy: 0.85620004\n"
     ]
    }
   ],
   "source": [
    "#The weighted accuracy after hyperparameter tuning\n",
    "y_pred = LR_tuned_model.predict(X_test)\n",
    "LR_confusion_tuned=confusion_matrix(Y_test, y_pred)\n",
    "acc_tuned=weighted_accuracy(LR_confusion_tuned)\n",
    "print(\"Accuracy: \" +  str(acc_tuned))"
   ]
  },
  {
   "cell_type": "markdown",
   "metadata": {},
   "source": [
    "# Second model: Random Forest"
   ]
  },
  {
   "cell_type": "code",
   "execution_count": 26,
   "metadata": {
    "colab": {
     "base_uri": "https://localhost:8080/",
     "height": 53
    },
    "colab_type": "code",
    "id": "KaWjUDDLxrV6",
    "outputId": "1b5a7408-f928-42d7-c952-14278aec8ae5"
   },
   "outputs": [
    {
     "name": "stdout",
     "output_type": "stream",
     "text": [
      "classification accuracy on validation set is  0.8859192\n",
      "classification accuracy on test set is  0.883\n"
     ]
    },
    {
     "data": {
      "image/png": "[encoded data removed]",
      "text/plain": [
       "<Figure size 720x504 with 1 Axes>"
      ]
     },
     "metadata": {
      "needs_background": "light"
     },
     "output_type": "display_data"
    },
    {
     "data": {
      "image/png": "[encoded data removed]",
      "text/plain": [
       "<Figure size 720x504 with 1 Axes>"
      ]
     },
     "metadata": {
      "needs_background": "light"
     },
     "output_type": "display_data"
    }
   ],
   "source": [
    "from sklearn.ensemble import RandomForestClassifier\n",
    "#set class_weight='balanced'\n",
    "RF=RandomForestClassifier(n_estimators=500, class_weight='balanced', max_depth=20, random_state=0)\n",
    "RF.fit(X_train, Y_train)\n",
    "Y_val_pred=RF.predict(X_val)\n",
    "confusion_val=confusion_matrix(Y_val, Y_val_pred)\n",
    "acc_val=weighted_accuracy(confusion_val)\n",
    "#plot confusion matrix using seanborn to see the details of wrong classified\n",
    "plt.figure(figsize = (10, 7))\n",
    "sn.heatmap(confusion_val, annot=True,cbar=False, fmt='g')\n",
    "plt.xlabel('Predicted')\n",
    "plt.ylabel('Truth')\n",
    "#test accuracy\n",
    "Y_test_pred=RF.predict(X_test)\n",
    "confusion_test=confusion_matrix(Y_test, Y_test_pred)\n",
    "acc_test=weighted_accuracy(confusion_test)\n",
    "#plot confusion matrix\n",
    "plt.figure(figsize = (10, 7))\n",
    "sn.heatmap(confusion_test, annot=True,cbar=False, fmt='g')\n",
    "plt.xlabel('Predicted')\n",
    "plt.ylabel('Truth')\n",
    "print('classification accuracy on validation set is ', acc_val)\n",
    "print('classification accuracy on test set is ', acc_test)"
   ]
  },
  {
   "cell_type": "code",
   "execution_count": 28,
   "metadata": {
    "colab": {},
    "colab_type": "code",
    "id": "qXfEDINzxtvQ"
   },
   "outputs": [],
   "source": [
    "# Set up the parameter\n",
    "RF_model_hyperparameters = [\n",
    " { \n",
    "    'bootstrap': [True],\n",
    "    'max_depth': np.arange(1,70,20),\n",
    "    'max_features': [2, 3],\n",
    "    'min_samples_leaf': [3, 5],\n",
    "    'min_samples_split': [8, 12],\n",
    "    'n_estimators': [100, 500]\n",
    "  }\n",
    "]"
   ]
  },
  {
   "cell_type": "code",
   "execution_count": 29,
   "metadata": {
    "colab": {
     "base_uri": "https://localhost:8080/",
     "height": 1000
    },
    "colab_type": "code",
    "id": "nN4tnxz_IQ_l",
    "outputId": "9ea7954d-1b17-4101-8556-c4f93ff7cf1c"
   },
   "outputs": [
    {
     "name": "stdout",
     "output_type": "stream",
     "text": [
      "Fitting 3 folds for each of 64 candidates, totalling 192 fits\n",
      "[CV] bootstrap=True, max_depth=1, max_features=2, min_samples_leaf=3, min_samples_split=8, n_estimators=100 \n"
     ]
    },
    {
     "name": "stderr",
     "output_type": "stream",
     "text": [
      "[Parallel(n_jobs=1)]: Using backend SequentialBackend with 1 concurrent workers.\n"
     ]
    },
    {
     "name": "stdout",
     "output_type": "stream",
     "text": [
      "[CV]  bootstrap=True, max_depth=1, max_features=2, min_samples_leaf=3, min_samples_split=8, n_estimators=100, total=   1.9s\n",
      "[CV] bootstrap=True, max_depth=1, max_features=2, min_samples_leaf=3, min_samples_split=8, n_estimators=100 \n"
     ]
    },
    {
     "name": "stderr",
     "output_type": "stream",
     "text": [
      "[Parallel(n_jobs=1)]: Done   1 out of   1 | elapsed:    1.9s remaining:    0.0s\n"
     ]
    },
    {
     "name": "stdout",
     "output_type": "stream",
     "text": [
      "[CV]  bootstrap=True, max_depth=1, max_features=2, min_samples_leaf=3, min_samples_split=8, n_estimators=100, total=   1.8s\n",
      "[CV] bootstrap=True, max_depth=1, max_features=2, min_samples_leaf=3, min_samples_split=8, n_estimators=100 \n",
      "[CV]  bootstrap=True, max_depth=1, max_features=2, min_samples_leaf=3, min_samples_split=8, n_estimators=100, total=   1.9s\n",
      "[CV] bootstrap=True, max_depth=1, max_features=2, min_samples_leaf=3, min_samples_split=8, n_estimators=500 \n",
      "[CV]  bootstrap=True, max_depth=1, max_features=2, min_samples_leaf=3, min_samples_split=8, n_estimators=500, total=   6.0s\n",
      "[CV] bootstrap=True, max_depth=1, max_features=2, min_samples_leaf=3, min_samples_split=8, n_estimators=500 \n",
      "[CV]  bootstrap=True, max_depth=1, max_features=2, min_samples_leaf=3, min_samples_split=8, n_estimators=500, total=   6.1s\n",
      "[CV] bootstrap=True, max_depth=1, max_features=2, min_samples_leaf=3, min_samples_split=8, n_estimators=500 \n",
      "[CV]  bootstrap=True, max_depth=1, max_features=2, min_samples_leaf=3, min_samples_split=8, n_estimators=500, total=   6.4s\n",
      "[CV] bootstrap=True, max_depth=1, max_features=2, min_samples_leaf=3, min_samples_split=12, n_estimators=100 \n",
      "[CV]  bootstrap=True, max_depth=1, max_features=2, min_samples_leaf=3, min_samples_split=12, n_estimators=100, total=   1.9s\n",
      "[CV] bootstrap=True, max_depth=1, max_features=2, min_samples_leaf=3, min_samples_split=12, n_estimators=100 \n",
      "[CV]  bootstrap=True, max_depth=1, max_features=2, min_samples_leaf=3, min_samples_split=12, n_estimators=100, total=   1.8s\n",
      "[CV] bootstrap=True, max_depth=1, max_features=2, min_samples_leaf=3, min_samples_split=12, n_estimators=100 \n",
      "[CV]  bootstrap=True, max_depth=1, max_features=2, min_samples_leaf=3, min_samples_split=12, n_estimators=100, total=   1.8s\n",
      "[CV] bootstrap=True, max_depth=1, max_features=2, min_samples_leaf=3, min_samples_split=12, n_estimators=500 \n",
      "[CV]  bootstrap=True, max_depth=1, max_features=2, min_samples_leaf=3, min_samples_split=12, n_estimators=500, total=   5.9s\n",
      "[CV] bootstrap=True, max_depth=1, max_features=2, min_samples_leaf=3, min_samples_split=12, n_estimators=500 \n",
      "[CV]  bootstrap=True, max_depth=1, max_features=2, min_samples_leaf=3, min_samples_split=12, n_estimators=500, total=   5.9s\n",
      "[CV] bootstrap=True, max_depth=1, max_features=2, min_samples_leaf=3, min_samples_split=12, n_estimators=500 \n",
      "[CV]  bootstrap=True, max_depth=1, max_features=2, min_samples_leaf=3, min_samples_split=12, n_estimators=500, total=   6.0s\n",
      "[CV] bootstrap=True, max_depth=1, max_features=2, min_samples_leaf=5, min_samples_split=8, n_estimators=100 \n",
      "[CV]  bootstrap=True, max_depth=1, max_features=2, min_samples_leaf=5, min_samples_split=8, n_estimators=100, total=   1.8s\n",
      "[CV] bootstrap=True, max_depth=1, max_features=2, min_samples_leaf=5, min_samples_split=8, n_estimators=100 \n",
      "[CV]  bootstrap=True, max_depth=1, max_features=2, min_samples_leaf=5, min_samples_split=8, n_estimators=100, total=   1.8s\n",
      "[CV] bootstrap=True, max_depth=1, max_features=2, min_samples_leaf=5, min_samples_split=8, n_estimators=100 \n",
      "[CV]  bootstrap=True, max_depth=1, max_features=2, min_samples_leaf=5, min_samples_split=8, n_estimators=100, total=   1.9s\n",
      "[CV] bootstrap=True, max_depth=1, max_features=2, min_samples_leaf=5, min_samples_split=8, n_estimators=500 \n",
      "[CV]  bootstrap=True, max_depth=1, max_features=2, min_samples_leaf=5, min_samples_split=8, n_estimators=500, total=   6.1s\n",
      "[CV] bootstrap=True, max_depth=1, max_features=2, min_samples_leaf=5, min_samples_split=8, n_estimators=500 \n",
      "[CV]  bootstrap=True, max_depth=1, max_features=2, min_samples_leaf=5, min_samples_split=8, n_estimators=500, total=   6.3s\n",
      "[CV] bootstrap=True, max_depth=1, max_features=2, min_samples_leaf=5, min_samples_split=8, n_estimators=500 \n",
      "[CV]  bootstrap=True, max_depth=1, max_features=2, min_samples_leaf=5, min_samples_split=8, n_estimators=500, total=   6.0s\n",
      "[CV] bootstrap=True, max_depth=1, max_features=2, min_samples_leaf=5, min_samples_split=12, n_estimators=100 \n",
      "[CV]  bootstrap=True, max_depth=1, max_features=2, min_samples_leaf=5, min_samples_split=12, n_estimators=100, total=   1.9s\n",
      "[CV] bootstrap=True, max_depth=1, max_features=2, min_samples_leaf=5, min_samples_split=12, n_estimators=100 \n",
      "[CV]  bootstrap=True, max_depth=1, max_features=2, min_samples_leaf=5, min_samples_split=12, n_estimators=100, total=   1.8s\n",
      "[CV] bootstrap=True, max_depth=1, max_features=2, min_samples_leaf=5, min_samples_split=12, n_estimators=100 \n",
      "[CV]  bootstrap=True, max_depth=1, max_features=2, min_samples_leaf=5, min_samples_split=12, n_estimators=100, total=   1.8s\n",
      "[CV] bootstrap=True, max_depth=1, max_features=2, min_samples_leaf=5, min_samples_split=12, n_estimators=500 \n",
      "[CV]  bootstrap=True, max_depth=1, max_features=2, min_samples_leaf=5, min_samples_split=12, n_estimators=500, total=   6.0s\n",
      "[CV] bootstrap=True, max_depth=1, max_features=2, min_samples_leaf=5, min_samples_split=12, n_estimators=500 \n",
      "[CV]  bootstrap=True, max_depth=1, max_features=2, min_samples_leaf=5, min_samples_split=12, n_estimators=500, total=   5.9s\n",
      "[CV] bootstrap=True, max_depth=1, max_features=2, min_samples_leaf=5, min_samples_split=12, n_estimators=500 \n",
      "[CV]  bootstrap=True, max_depth=1, max_features=2, min_samples_leaf=5, min_samples_split=12, n_estimators=500, total=   5.9s\n",
      "[CV] bootstrap=True, max_depth=1, max_features=3, min_samples_leaf=3, min_samples_split=8, n_estimators=100 \n",
      "[CV]  bootstrap=True, max_depth=1, max_features=3, min_samples_leaf=3, min_samples_split=8, n_estimators=100, total=   2.0s\n",
      "[CV] bootstrap=True, max_depth=1, max_features=3, min_samples_leaf=3, min_samples_split=8, n_estimators=100 \n",
      "[CV]  bootstrap=True, max_depth=1, max_features=3, min_samples_leaf=3, min_samples_split=8, n_estimators=100, total=   2.0s\n",
      "[CV] bootstrap=True, max_depth=1, max_features=3, min_samples_leaf=3, min_samples_split=8, n_estimators=100 \n",
      "[CV]  bootstrap=True, max_depth=1, max_features=3, min_samples_leaf=3, min_samples_split=8, n_estimators=100, total=   2.0s\n",
      "[CV] bootstrap=True, max_depth=1, max_features=3, min_samples_leaf=3, min_samples_split=8, n_estimators=500 \n",
      "[CV]  bootstrap=True, max_depth=1, max_features=3, min_samples_leaf=3, min_samples_split=8, n_estimators=500, total=   6.5s\n",
      "[CV] bootstrap=True, max_depth=1, max_features=3, min_samples_leaf=3, min_samples_split=8, n_estimators=500 \n",
      "[CV]  bootstrap=True, max_depth=1, max_features=3, min_samples_leaf=3, min_samples_split=8, n_estimators=500, total=   6.5s\n",
      "[CV] bootstrap=True, max_depth=1, max_features=3, min_samples_leaf=3, min_samples_split=8, n_estimators=500 \n",
      "[CV]  bootstrap=True, max_depth=1, max_features=3, min_samples_leaf=3, min_samples_split=8, n_estimators=500, total=   6.4s\n",
      "[CV] bootstrap=True, max_depth=1, max_features=3, min_samples_leaf=3, min_samples_split=12, n_estimators=100 \n",
      "[CV]  bootstrap=True, max_depth=1, max_features=3, min_samples_leaf=3, min_samples_split=12, n_estimators=100, total=   1.9s\n",
      "[CV] bootstrap=True, max_depth=1, max_features=3, min_samples_leaf=3, min_samples_split=12, n_estimators=100 \n",
      "[CV]  bootstrap=True, max_depth=1, max_features=3, min_samples_leaf=3, min_samples_split=12, n_estimators=100, total=   2.0s\n",
      "[CV] bootstrap=True, max_depth=1, max_features=3, min_samples_leaf=3, min_samples_split=12, n_estimators=100 \n",
      "[CV]  bootstrap=True, max_depth=1, max_features=3, min_samples_leaf=3, min_samples_split=12, n_estimators=100, total=   2.0s\n",
      "[CV] bootstrap=True, max_depth=1, max_features=3, min_samples_leaf=3, min_samples_split=12, n_estimators=500 \n",
      "[CV]  bootstrap=True, max_depth=1, max_features=3, min_samples_leaf=3, min_samples_split=12, n_estimators=500, total=   6.4s\n",
      "[CV] bootstrap=True, max_depth=1, max_features=3, min_samples_leaf=3, min_samples_split=12, n_estimators=500 \n",
      "[CV]  bootstrap=True, max_depth=1, max_features=3, min_samples_leaf=3, min_samples_split=12, n_estimators=500, total=   6.4s\n",
      "[CV] bootstrap=True, max_depth=1, max_features=3, min_samples_leaf=3, min_samples_split=12, n_estimators=500 \n",
      "[CV]  bootstrap=True, max_depth=1, max_features=3, min_samples_leaf=3, min_samples_split=12, n_estimators=500, total=   6.5s\n",
      "[CV] bootstrap=True, max_depth=1, max_features=3, min_samples_leaf=5, min_samples_split=8, n_estimators=100 \n",
      "[CV]  bootstrap=True, max_depth=1, max_features=3, min_samples_leaf=5, min_samples_split=8, n_estimators=100, total=   1.9s\n",
      "[CV] bootstrap=True, max_depth=1, max_features=3, min_samples_leaf=5, min_samples_split=8, n_estimators=100 \n",
      "[CV]  bootstrap=True, max_depth=1, max_features=3, min_samples_leaf=5, min_samples_split=8, n_estimators=100, total=   1.9s\n",
      "[CV] bootstrap=True, max_depth=1, max_features=3, min_samples_leaf=5, min_samples_split=8, n_estimators=100 \n",
      "[CV]  bootstrap=True, max_depth=1, max_features=3, min_samples_leaf=5, min_samples_split=8, n_estimators=100, total=   2.0s\n",
      "[CV] bootstrap=True, max_depth=1, max_features=3, min_samples_leaf=5, min_samples_split=8, n_estimators=500 \n",
      "[CV]  bootstrap=True, max_depth=1, max_features=3, min_samples_leaf=5, min_samples_split=8, n_estimators=500, total=   6.4s\n",
      "[CV] bootstrap=True, max_depth=1, max_features=3, min_samples_leaf=5, min_samples_split=8, n_estimators=500 \n",
      "[CV]  bootstrap=True, max_depth=1, max_features=3, min_samples_leaf=5, min_samples_split=8, n_estimators=500, total=   6.5s\n",
      "[CV] bootstrap=True, max_depth=1, max_features=3, min_samples_leaf=5, min_samples_split=8, n_estimators=500 \n",
      "[CV]  bootstrap=True, max_depth=1, max_features=3, min_samples_leaf=5, min_samples_split=8, n_estimators=500, total=   6.6s\n",
      "[CV] bootstrap=True, max_depth=1, max_features=3, min_samples_leaf=5, min_samples_split=12, n_estimators=100 \n",
      "[CV]  bootstrap=True, max_depth=1, max_features=3, min_samples_leaf=5, min_samples_split=12, n_estimators=100, total=   1.9s\n",
      "[CV] bootstrap=True, max_depth=1, max_features=3, min_samples_leaf=5, min_samples_split=12, n_estimators=100 \n",
      "[CV]  bootstrap=True, max_depth=1, max_features=3, min_samples_leaf=5, min_samples_split=12, n_estimators=100, total=   1.9s\n",
      "[CV] bootstrap=True, max_depth=1, max_features=3, min_samples_leaf=5, min_samples_split=12, n_estimators=100 \n",
      "[CV]  bootstrap=True, max_depth=1, max_features=3, min_samples_leaf=5, min_samples_split=12, n_estimators=100, total=   2.0s\n",
      "[CV] bootstrap=True, max_depth=1, max_features=3, min_samples_leaf=5, min_samples_split=12, n_estimators=500 \n",
      "[CV]  bootstrap=True, max_depth=1, max_features=3, min_samples_leaf=5, min_samples_split=12, n_estimators=500, total=   6.5s\n",
      "[CV] bootstrap=True, max_depth=1, max_features=3, min_samples_leaf=5, min_samples_split=12, n_estimators=500 \n",
      "[CV]  bootstrap=True, max_depth=1, max_features=3, min_samples_leaf=5, min_samples_split=12, n_estimators=500, total=   6.4s\n",
      "[CV] bootstrap=True, max_depth=1, max_features=3, min_samples_leaf=5, min_samples_split=12, n_estimators=500 \n",
      "[CV]  bootstrap=True, max_depth=1, max_features=3, min_samples_leaf=5, min_samples_split=12, n_estimators=500, total=   6.4s\n",
      "[CV] bootstrap=True, max_depth=21, max_features=2, min_samples_leaf=3, min_samples_split=8, n_estimators=100 \n",
      "[CV]  bootstrap=True, max_depth=21, max_features=2, min_samples_leaf=3, min_samples_split=8, n_estimators=100, total=   6.0s\n",
      "[CV] bootstrap=True, max_depth=21, max_features=2, min_samples_leaf=3, min_samples_split=8, n_estimators=100 \n",
      "[CV]  bootstrap=True, max_depth=21, max_features=2, min_samples_leaf=3, min_samples_split=8, n_estimators=100, total=   6.1s\n",
      "[CV] bootstrap=True, max_depth=21, max_features=2, min_samples_leaf=3, min_samples_split=8, n_estimators=100 \n",
      "[CV]  bootstrap=True, max_depth=21, max_features=2, min_samples_leaf=3, min_samples_split=8, n_estimators=100, total=   6.1s\n",
      "[CV] bootstrap=True, max_depth=21, max_features=2, min_samples_leaf=3, min_samples_split=8, n_estimators=500 \n",
      "[CV]  bootstrap=True, max_depth=21, max_features=2, min_samples_leaf=3, min_samples_split=8, n_estimators=500, total=  27.2s\n",
      "[CV] bootstrap=True, max_depth=21, max_features=2, min_samples_leaf=3, min_samples_split=8, n_estimators=500 \n",
      "[CV]  bootstrap=True, max_depth=21, max_features=2, min_samples_leaf=3, min_samples_split=8, n_estimators=500, total=  26.9s\n",
      "[CV] bootstrap=True, max_depth=21, max_features=2, min_samples_leaf=3, min_samples_split=8, n_estimators=500 \n",
      "[CV]  bootstrap=True, max_depth=21, max_features=2, min_samples_leaf=3, min_samples_split=8, n_estimators=500, total=  27.3s\n",
      "[CV] bootstrap=True, max_depth=21, max_features=2, min_samples_leaf=3, min_samples_split=12, n_estimators=100 \n",
      "[CV]  bootstrap=True, max_depth=21, max_features=2, min_samples_leaf=3, min_samples_split=12, n_estimators=100, total=   6.1s\n",
      "[CV] bootstrap=True, max_depth=21, max_features=2, min_samples_leaf=3, min_samples_split=12, n_estimators=100 \n",
      "[CV]  bootstrap=True, max_depth=21, max_features=2, min_samples_leaf=3, min_samples_split=12, n_estimators=100, total=   6.0s\n",
      "[CV] bootstrap=True, max_depth=21, max_features=2, min_samples_leaf=3, min_samples_split=12, n_estimators=100 \n",
      "[CV]  bootstrap=True, max_depth=21, max_features=2, min_samples_leaf=3, min_samples_split=12, n_estimators=100, total=   6.0s\n",
      "[CV] bootstrap=True, max_depth=21, max_features=2, min_samples_leaf=3, min_samples_split=12, n_estimators=500 \n",
      "[CV]  bootstrap=True, max_depth=21, max_features=2, min_samples_leaf=3, min_samples_split=12, n_estimators=500, total=  26.7s\n",
      "[CV] bootstrap=True, max_depth=21, max_features=2, min_samples_leaf=3, min_samples_split=12, n_estimators=500 \n",
      "[CV]  bootstrap=True, max_depth=21, max_features=2, min_samples_leaf=3, min_samples_split=12, n_estimators=500, total=  26.6s\n",
      "[CV] bootstrap=True, max_depth=21, max_features=2, min_samples_leaf=3, min_samples_split=12, n_estimators=500 \n",
      "[CV]  bootstrap=True, max_depth=21, max_features=2, min_samples_leaf=3, min_samples_split=12, n_estimators=500, total=  26.7s\n",
      "[CV] bootstrap=True, max_depth=21, max_features=2, min_samples_leaf=5, min_samples_split=8, n_estimators=100 \n",
      "[CV]  bootstrap=True, max_depth=21, max_features=2, min_samples_leaf=5, min_samples_split=8, n_estimators=100, total=   5.8s\n",
      "[CV] bootstrap=True, max_depth=21, max_features=2, min_samples_leaf=5, min_samples_split=8, n_estimators=100 \n",
      "[CV]  bootstrap=True, max_depth=21, max_features=2, min_samples_leaf=5, min_samples_split=8, n_estimators=100, total=   5.7s\n",
      "[CV] bootstrap=True, max_depth=21, max_features=2, min_samples_leaf=5, min_samples_split=8, n_estimators=100 \n",
      "[CV]  bootstrap=True, max_depth=21, max_features=2, min_samples_leaf=5, min_samples_split=8, n_estimators=100, total=   5.7s\n",
      "[CV] bootstrap=True, max_depth=21, max_features=2, min_samples_leaf=5, min_samples_split=8, n_estimators=500 \n",
      "[CV]  bootstrap=True, max_depth=21, max_features=2, min_samples_leaf=5, min_samples_split=8, n_estimators=500, total=  25.9s\n",
      "[CV] bootstrap=True, max_depth=21, max_features=2, min_samples_leaf=5, min_samples_split=8, n_estimators=500 \n",
      "[CV]  bootstrap=True, max_depth=21, max_features=2, min_samples_leaf=5, min_samples_split=8, n_estimators=500, total=  26.0s\n",
      "[CV] bootstrap=True, max_depth=21, max_features=2, min_samples_leaf=5, min_samples_split=8, n_estimators=500 \n",
      "[CV]  bootstrap=True, max_depth=21, max_features=2, min_samples_leaf=5, min_samples_split=8, n_estimators=500, total=  25.5s\n",
      "[CV] bootstrap=True, max_depth=21, max_features=2, min_samples_leaf=5, min_samples_split=12, n_estimators=100 \n",
      "[CV]  bootstrap=True, max_depth=21, max_features=2, min_samples_leaf=5, min_samples_split=12, n_estimators=100, total=   5.6s\n",
      "[CV] bootstrap=True, max_depth=21, max_features=2, min_samples_leaf=5, min_samples_split=12, n_estimators=100 \n",
      "[CV]  bootstrap=True, max_depth=21, max_features=2, min_samples_leaf=5, min_samples_split=12, n_estimators=100, total=   5.7s\n",
      "[CV] bootstrap=True, max_depth=21, max_features=2, min_samples_leaf=5, min_samples_split=12, n_estimators=100 \n",
      "[CV]  bootstrap=True, max_depth=21, max_features=2, min_samples_leaf=5, min_samples_split=12, n_estimators=100, total=   5.7s\n",
      "[CV] bootstrap=True, max_depth=21, max_features=2, min_samples_leaf=5, min_samples_split=12, n_estimators=500 \n",
      "[CV]  bootstrap=True, max_depth=21, max_features=2, min_samples_leaf=5, min_samples_split=12, n_estimators=500, total=  25.4s\n",
      "[CV] bootstrap=True, max_depth=21, max_features=2, min_samples_leaf=5, min_samples_split=12, n_estimators=500 \n",
      "[CV]  bootstrap=True, max_depth=21, max_features=2, min_samples_leaf=5, min_samples_split=12, n_estimators=500, total=  25.4s\n",
      "[CV] bootstrap=True, max_depth=21, max_features=2, min_samples_leaf=5, min_samples_split=12, n_estimators=500 \n",
      "[CV]  bootstrap=True, max_depth=21, max_features=2, min_samples_leaf=5, min_samples_split=12, n_estimators=500, total=  25.5s\n",
      "[CV] bootstrap=True, max_depth=21, max_features=3, min_samples_leaf=3, min_samples_split=8, n_estimators=100 \n",
      "[CV]  bootstrap=True, max_depth=21, max_features=3, min_samples_leaf=3, min_samples_split=8, n_estimators=100, total=   7.6s\n",
      "[CV] bootstrap=True, max_depth=21, max_features=3, min_samples_leaf=3, min_samples_split=8, n_estimators=100 \n",
      "[CV]  bootstrap=True, max_depth=21, max_features=3, min_samples_leaf=3, min_samples_split=8, n_estimators=100, total=   7.7s\n",
      "[CV] bootstrap=True, max_depth=21, max_features=3, min_samples_leaf=3, min_samples_split=8, n_estimators=100 \n",
      "[CV]  bootstrap=True, max_depth=21, max_features=3, min_samples_leaf=3, min_samples_split=8, n_estimators=100, total=   7.7s\n",
      "[CV] bootstrap=True, max_depth=21, max_features=3, min_samples_leaf=3, min_samples_split=8, n_estimators=500 \n",
      "[CV]  bootstrap=True, max_depth=21, max_features=3, min_samples_leaf=3, min_samples_split=8, n_estimators=500, total=  34.9s\n",
      "[CV] bootstrap=True, max_depth=21, max_features=3, min_samples_leaf=3, min_samples_split=8, n_estimators=500 \n",
      "[CV]  bootstrap=True, max_depth=21, max_features=3, min_samples_leaf=3, min_samples_split=8, n_estimators=500, total=  35.2s\n",
      "[CV] bootstrap=True, max_depth=21, max_features=3, min_samples_leaf=3, min_samples_split=8, n_estimators=500 \n",
      "[CV]  bootstrap=True, max_depth=21, max_features=3, min_samples_leaf=3, min_samples_split=8, n_estimators=500, total=  39.7s\n",
      "[CV] bootstrap=True, max_depth=21, max_features=3, min_samples_leaf=3, min_samples_split=12, n_estimators=100 \n",
      "[CV]  bootstrap=True, max_depth=21, max_features=3, min_samples_leaf=3, min_samples_split=12, n_estimators=100, total=  16.6s\n",
      "[CV] bootstrap=True, max_depth=21, max_features=3, min_samples_leaf=3, min_samples_split=12, n_estimators=100 \n",
      "[CV]  bootstrap=True, max_depth=21, max_features=3, min_samples_leaf=3, min_samples_split=12, n_estimators=100, total=  15.5s\n",
      "[CV] bootstrap=True, max_depth=21, max_features=3, min_samples_leaf=3, min_samples_split=12, n_estimators=100 \n",
      "[CV]  bootstrap=True, max_depth=21, max_features=3, min_samples_leaf=3, min_samples_split=12, n_estimators=100, total=  12.8s\n",
      "[CV] bootstrap=True, max_depth=21, max_features=3, min_samples_leaf=3, min_samples_split=12, n_estimators=500 \n",
      "[CV]  bootstrap=True, max_depth=21, max_features=3, min_samples_leaf=3, min_samples_split=12, n_estimators=500, total=  41.5s\n",
      "[CV] bootstrap=True, max_depth=21, max_features=3, min_samples_leaf=3, min_samples_split=12, n_estimators=500 \n",
      "[CV]  bootstrap=True, max_depth=21, max_features=3, min_samples_leaf=3, min_samples_split=12, n_estimators=500, total= 1.0min\n",
      "[CV] bootstrap=True, max_depth=21, max_features=3, min_samples_leaf=3, min_samples_split=12, n_estimators=500 \n",
      "[CV]  bootstrap=True, max_depth=21, max_features=3, min_samples_leaf=3, min_samples_split=12, n_estimators=500, total= 1.1min\n",
      "[CV] bootstrap=True, max_depth=21, max_features=3, min_samples_leaf=5, min_samples_split=8, n_estimators=100 \n",
      "[CV]  bootstrap=True, max_depth=21, max_features=3, min_samples_leaf=5, min_samples_split=8, n_estimators=100, total=  14.4s\n",
      "[CV] bootstrap=True, max_depth=21, max_features=3, min_samples_leaf=5, min_samples_split=8, n_estimators=100 \n",
      "[CV]  bootstrap=True, max_depth=21, max_features=3, min_samples_leaf=5, min_samples_split=8, n_estimators=100, total=  13.5s\n",
      "[CV] bootstrap=True, max_depth=21, max_features=3, min_samples_leaf=5, min_samples_split=8, n_estimators=100 \n",
      "[CV]  bootstrap=True, max_depth=21, max_features=3, min_samples_leaf=5, min_samples_split=8, n_estimators=100, total=  14.2s\n",
      "[CV] bootstrap=True, max_depth=21, max_features=3, min_samples_leaf=5, min_samples_split=8, n_estimators=500 \n",
      "[CV]  bootstrap=True, max_depth=21, max_features=3, min_samples_leaf=5, min_samples_split=8, n_estimators=500, total=  47.7s\n",
      "[CV] bootstrap=True, max_depth=21, max_features=3, min_samples_leaf=5, min_samples_split=8, n_estimators=500 \n",
      "[CV]  bootstrap=True, max_depth=21, max_features=3, min_samples_leaf=5, min_samples_split=8, n_estimators=500, total=  33.9s\n",
      "[CV] bootstrap=True, max_depth=21, max_features=3, min_samples_leaf=5, min_samples_split=8, n_estimators=500 \n",
      "[CV]  bootstrap=True, max_depth=21, max_features=3, min_samples_leaf=5, min_samples_split=8, n_estimators=500, total=  32.4s\n",
      "[CV] bootstrap=True, max_depth=21, max_features=3, min_samples_leaf=5, min_samples_split=12, n_estimators=100 \n",
      "[CV]  bootstrap=True, max_depth=21, max_features=3, min_samples_leaf=5, min_samples_split=12, n_estimators=100, total=   6.2s\n",
      "[CV] bootstrap=True, max_depth=21, max_features=3, min_samples_leaf=5, min_samples_split=12, n_estimators=100 \n",
      "[CV]  bootstrap=True, max_depth=21, max_features=3, min_samples_leaf=5, min_samples_split=12, n_estimators=100, total=   6.0s\n",
      "[CV] bootstrap=True, max_depth=21, max_features=3, min_samples_leaf=5, min_samples_split=12, n_estimators=100 \n",
      "[CV]  bootstrap=True, max_depth=21, max_features=3, min_samples_leaf=5, min_samples_split=12, n_estimators=100, total=   6.1s\n",
      "[CV] bootstrap=True, max_depth=21, max_features=3, min_samples_leaf=5, min_samples_split=12, n_estimators=500 \n",
      "[CV]  bootstrap=True, max_depth=21, max_features=3, min_samples_leaf=5, min_samples_split=12, n_estimators=500, total=  49.6s\n",
      "[CV] bootstrap=True, max_depth=21, max_features=3, min_samples_leaf=5, min_samples_split=12, n_estimators=500 \n",
      "[CV]  bootstrap=True, max_depth=21, max_features=3, min_samples_leaf=5, min_samples_split=12, n_estimators=500, total=  53.5s\n",
      "[CV] bootstrap=True, max_depth=21, max_features=3, min_samples_leaf=5, min_samples_split=12, n_estimators=500 \n",
      "[CV]  bootstrap=True, max_depth=21, max_features=3, min_samples_leaf=5, min_samples_split=12, n_estimators=500, total=  54.5s\n",
      "[CV] bootstrap=True, max_depth=41, max_features=2, min_samples_leaf=3, min_samples_split=8, n_estimators=100 \n",
      "[CV]  bootstrap=True, max_depth=41, max_features=2, min_samples_leaf=3, min_samples_split=8, n_estimators=100, total=  10.3s\n",
      "[CV] bootstrap=True, max_depth=41, max_features=2, min_samples_leaf=3, min_samples_split=8, n_estimators=100 \n",
      "[CV]  bootstrap=True, max_depth=41, max_features=2, min_samples_leaf=3, min_samples_split=8, n_estimators=100, total=  10.6s\n",
      "[CV] bootstrap=True, max_depth=41, max_features=2, min_samples_leaf=3, min_samples_split=8, n_estimators=100 \n",
      "[CV]  bootstrap=True, max_depth=41, max_features=2, min_samples_leaf=3, min_samples_split=8, n_estimators=100, total=  10.9s\n",
      "[CV] bootstrap=True, max_depth=41, max_features=2, min_samples_leaf=3, min_samples_split=8, n_estimators=500 \n",
      "[CV]  bootstrap=True, max_depth=41, max_features=2, min_samples_leaf=3, min_samples_split=8, n_estimators=500, total=  46.0s\n",
      "[CV] bootstrap=True, max_depth=41, max_features=2, min_samples_leaf=3, min_samples_split=8, n_estimators=500 \n",
      "[CV]  bootstrap=True, max_depth=41, max_features=2, min_samples_leaf=3, min_samples_split=8, n_estimators=500, total=  45.4s\n",
      "[CV] bootstrap=True, max_depth=41, max_features=2, min_samples_leaf=3, min_samples_split=8, n_estimators=500 \n",
      "[CV]  bootstrap=True, max_depth=41, max_features=2, min_samples_leaf=3, min_samples_split=8, n_estimators=500, total=  45.0s\n",
      "[CV] bootstrap=True, max_depth=41, max_features=2, min_samples_leaf=3, min_samples_split=12, n_estimators=100 \n",
      "[CV]  bootstrap=True, max_depth=41, max_features=2, min_samples_leaf=3, min_samples_split=12, n_estimators=100, total=  10.2s\n",
      "[CV] bootstrap=True, max_depth=41, max_features=2, min_samples_leaf=3, min_samples_split=12, n_estimators=100 \n",
      "[CV]  bootstrap=True, max_depth=41, max_features=2, min_samples_leaf=3, min_samples_split=12, n_estimators=100, total=  10.0s\n",
      "[CV] bootstrap=True, max_depth=41, max_features=2, min_samples_leaf=3, min_samples_split=12, n_estimators=100 \n",
      "[CV]  bootstrap=True, max_depth=41, max_features=2, min_samples_leaf=3, min_samples_split=12, n_estimators=100, total=  10.8s\n",
      "[CV] bootstrap=True, max_depth=41, max_features=2, min_samples_leaf=3, min_samples_split=12, n_estimators=500 \n",
      "[CV]  bootstrap=True, max_depth=41, max_features=2, min_samples_leaf=3, min_samples_split=12, n_estimators=500, total=  46.7s\n",
      "[CV] bootstrap=True, max_depth=41, max_features=2, min_samples_leaf=3, min_samples_split=12, n_estimators=500 \n",
      "[CV]  bootstrap=True, max_depth=41, max_features=2, min_samples_leaf=3, min_samples_split=12, n_estimators=500, total=  46.7s\n",
      "[CV] bootstrap=True, max_depth=41, max_features=2, min_samples_leaf=3, min_samples_split=12, n_estimators=500 \n",
      "[CV]  bootstrap=True, max_depth=41, max_features=2, min_samples_leaf=3, min_samples_split=12, n_estimators=500, total=  46.7s\n",
      "[CV] bootstrap=True, max_depth=41, max_features=2, min_samples_leaf=5, min_samples_split=8, n_estimators=100 \n",
      "[CV]  bootstrap=True, max_depth=41, max_features=2, min_samples_leaf=5, min_samples_split=8, n_estimators=100, total=  10.2s\n",
      "[CV] bootstrap=True, max_depth=41, max_features=2, min_samples_leaf=5, min_samples_split=8, n_estimators=100 \n",
      "[CV]  bootstrap=True, max_depth=41, max_features=2, min_samples_leaf=5, min_samples_split=8, n_estimators=100, total=  10.7s\n",
      "[CV] bootstrap=True, max_depth=41, max_features=2, min_samples_leaf=5, min_samples_split=8, n_estimators=100 \n",
      "[CV]  bootstrap=True, max_depth=41, max_features=2, min_samples_leaf=5, min_samples_split=8, n_estimators=100, total=  10.1s\n",
      "[CV] bootstrap=True, max_depth=41, max_features=2, min_samples_leaf=5, min_samples_split=8, n_estimators=500 \n",
      "[CV]  bootstrap=True, max_depth=41, max_features=2, min_samples_leaf=5, min_samples_split=8, n_estimators=500, total=  44.9s\n",
      "[CV] bootstrap=True, max_depth=41, max_features=2, min_samples_leaf=5, min_samples_split=8, n_estimators=500 \n",
      "[CV]  bootstrap=True, max_depth=41, max_features=2, min_samples_leaf=5, min_samples_split=8, n_estimators=500, total=  43.8s\n",
      "[CV] bootstrap=True, max_depth=41, max_features=2, min_samples_leaf=5, min_samples_split=8, n_estimators=500 \n",
      "[CV]  bootstrap=True, max_depth=41, max_features=2, min_samples_leaf=5, min_samples_split=8, n_estimators=500, total=  44.7s\n",
      "[CV] bootstrap=True, max_depth=41, max_features=2, min_samples_leaf=5, min_samples_split=12, n_estimators=100 \n",
      "[CV]  bootstrap=True, max_depth=41, max_features=2, min_samples_leaf=5, min_samples_split=12, n_estimators=100, total=   9.6s\n",
      "[CV] bootstrap=True, max_depth=41, max_features=2, min_samples_leaf=5, min_samples_split=12, n_estimators=100 \n",
      "[CV]  bootstrap=True, max_depth=41, max_features=2, min_samples_leaf=5, min_samples_split=12, n_estimators=100, total=  10.2s\n",
      "[CV] bootstrap=True, max_depth=41, max_features=2, min_samples_leaf=5, min_samples_split=12, n_estimators=100 \n",
      "[CV]  bootstrap=True, max_depth=41, max_features=2, min_samples_leaf=5, min_samples_split=12, n_estimators=100, total=  10.2s\n",
      "[CV] bootstrap=True, max_depth=41, max_features=2, min_samples_leaf=5, min_samples_split=12, n_estimators=500 \n",
      "[CV]  bootstrap=True, max_depth=41, max_features=2, min_samples_leaf=5, min_samples_split=12, n_estimators=500, total=  45.5s\n",
      "[CV] bootstrap=True, max_depth=41, max_features=2, min_samples_leaf=5, min_samples_split=12, n_estimators=500 \n",
      "[CV]  bootstrap=True, max_depth=41, max_features=2, min_samples_leaf=5, min_samples_split=12, n_estimators=500, total=  45.2s\n",
      "[CV] bootstrap=True, max_depth=41, max_features=2, min_samples_leaf=5, min_samples_split=12, n_estimators=500 \n",
      "[CV]  bootstrap=True, max_depth=41, max_features=2, min_samples_leaf=5, min_samples_split=12, n_estimators=500, total=  48.5s\n",
      "[CV] bootstrap=True, max_depth=41, max_features=3, min_samples_leaf=3, min_samples_split=8, n_estimators=100 \n",
      "[CV]  bootstrap=True, max_depth=41, max_features=3, min_samples_leaf=3, min_samples_split=8, n_estimators=100, total=  14.1s\n",
      "[CV] bootstrap=True, max_depth=41, max_features=3, min_samples_leaf=3, min_samples_split=8, n_estimators=100 \n",
      "[CV]  bootstrap=True, max_depth=41, max_features=3, min_samples_leaf=3, min_samples_split=8, n_estimators=100, total=  14.5s\n",
      "[CV] bootstrap=True, max_depth=41, max_features=3, min_samples_leaf=3, min_samples_split=8, n_estimators=100 \n",
      "[CV]  bootstrap=True, max_depth=41, max_features=3, min_samples_leaf=3, min_samples_split=8, n_estimators=100, total=  14.4s\n",
      "[CV] bootstrap=True, max_depth=41, max_features=3, min_samples_leaf=3, min_samples_split=8, n_estimators=500 \n",
      "[CV]  bootstrap=True, max_depth=41, max_features=3, min_samples_leaf=3, min_samples_split=8, n_estimators=500, total= 1.1min\n",
      "[CV] bootstrap=True, max_depth=41, max_features=3, min_samples_leaf=3, min_samples_split=8, n_estimators=500 \n",
      "[CV]  bootstrap=True, max_depth=41, max_features=3, min_samples_leaf=3, min_samples_split=8, n_estimators=500, total= 1.1min\n",
      "[CV] bootstrap=True, max_depth=41, max_features=3, min_samples_leaf=3, min_samples_split=8, n_estimators=500 \n",
      "[CV]  bootstrap=True, max_depth=41, max_features=3, min_samples_leaf=3, min_samples_split=8, n_estimators=500, total= 1.0min\n",
      "[CV] bootstrap=True, max_depth=41, max_features=3, min_samples_leaf=3, min_samples_split=12, n_estimators=100 \n",
      "[CV]  bootstrap=True, max_depth=41, max_features=3, min_samples_leaf=3, min_samples_split=12, n_estimators=100, total=  14.1s\n",
      "[CV] bootstrap=True, max_depth=41, max_features=3, min_samples_leaf=3, min_samples_split=12, n_estimators=100 \n",
      "[CV]  bootstrap=True, max_depth=41, max_features=3, min_samples_leaf=3, min_samples_split=12, n_estimators=100, total=  13.8s\n",
      "[CV] bootstrap=True, max_depth=41, max_features=3, min_samples_leaf=3, min_samples_split=12, n_estimators=100 \n",
      "[CV]  bootstrap=True, max_depth=41, max_features=3, min_samples_leaf=3, min_samples_split=12, n_estimators=100, total=  13.6s\n",
      "[CV] bootstrap=True, max_depth=41, max_features=3, min_samples_leaf=3, min_samples_split=12, n_estimators=500 \n",
      "[CV]  bootstrap=True, max_depth=41, max_features=3, min_samples_leaf=3, min_samples_split=12, n_estimators=500, total= 1.0min\n",
      "[CV] bootstrap=True, max_depth=41, max_features=3, min_samples_leaf=3, min_samples_split=12, n_estimators=500 \n",
      "[CV]  bootstrap=True, max_depth=41, max_features=3, min_samples_leaf=3, min_samples_split=12, n_estimators=500, total= 1.0min\n",
      "[CV] bootstrap=True, max_depth=41, max_features=3, min_samples_leaf=3, min_samples_split=12, n_estimators=500 \n",
      "[CV]  bootstrap=True, max_depth=41, max_features=3, min_samples_leaf=3, min_samples_split=12, n_estimators=500, total= 1.2min\n",
      "[CV] bootstrap=True, max_depth=41, max_features=3, min_samples_leaf=5, min_samples_split=8, n_estimators=100 \n",
      "[CV]  bootstrap=True, max_depth=41, max_features=3, min_samples_leaf=5, min_samples_split=8, n_estimators=100, total=  15.9s\n",
      "[CV] bootstrap=True, max_depth=41, max_features=3, min_samples_leaf=5, min_samples_split=8, n_estimators=100 \n",
      "[CV]  bootstrap=True, max_depth=41, max_features=3, min_samples_leaf=5, min_samples_split=8, n_estimators=100, total=  15.9s\n",
      "[CV] bootstrap=True, max_depth=41, max_features=3, min_samples_leaf=5, min_samples_split=8, n_estimators=100 \n",
      "[CV]  bootstrap=True, max_depth=41, max_features=3, min_samples_leaf=5, min_samples_split=8, n_estimators=100, total=  16.9s\n",
      "[CV] bootstrap=True, max_depth=41, max_features=3, min_samples_leaf=5, min_samples_split=8, n_estimators=500 \n",
      "[CV]  bootstrap=True, max_depth=41, max_features=3, min_samples_leaf=5, min_samples_split=8, n_estimators=500, total= 1.2min\n",
      "[CV] bootstrap=True, max_depth=41, max_features=3, min_samples_leaf=5, min_samples_split=8, n_estimators=500 \n",
      "[CV]  bootstrap=True, max_depth=41, max_features=3, min_samples_leaf=5, min_samples_split=8, n_estimators=500, total=  46.6s\n",
      "[CV] bootstrap=True, max_depth=41, max_features=3, min_samples_leaf=5, min_samples_split=8, n_estimators=500 \n",
      "[CV]  bootstrap=True, max_depth=41, max_features=3, min_samples_leaf=5, min_samples_split=8, n_estimators=500, total=  30.6s\n",
      "[CV] bootstrap=True, max_depth=41, max_features=3, min_samples_leaf=5, min_samples_split=12, n_estimators=100 \n",
      "[CV]  bootstrap=True, max_depth=41, max_features=3, min_samples_leaf=5, min_samples_split=12, n_estimators=100, total=   6.6s\n",
      "[CV] bootstrap=True, max_depth=41, max_features=3, min_samples_leaf=5, min_samples_split=12, n_estimators=100 \n",
      "[CV]  bootstrap=True, max_depth=41, max_features=3, min_samples_leaf=5, min_samples_split=12, n_estimators=100, total=   6.6s\n",
      "[CV] bootstrap=True, max_depth=41, max_features=3, min_samples_leaf=5, min_samples_split=12, n_estimators=100 \n",
      "[CV]  bootstrap=True, max_depth=41, max_features=3, min_samples_leaf=5, min_samples_split=12, n_estimators=100, total=   6.6s\n",
      "[CV] bootstrap=True, max_depth=41, max_features=3, min_samples_leaf=5, min_samples_split=12, n_estimators=500 \n",
      "[CV]  bootstrap=True, max_depth=41, max_features=3, min_samples_leaf=5, min_samples_split=12, n_estimators=500, total=  30.4s\n",
      "[CV] bootstrap=True, max_depth=41, max_features=3, min_samples_leaf=5, min_samples_split=12, n_estimators=500 \n",
      "[CV]  bootstrap=True, max_depth=41, max_features=3, min_samples_leaf=5, min_samples_split=12, n_estimators=500, total=  31.1s\n",
      "[CV] bootstrap=True, max_depth=41, max_features=3, min_samples_leaf=5, min_samples_split=12, n_estimators=500 \n",
      "[CV]  bootstrap=True, max_depth=41, max_features=3, min_samples_leaf=5, min_samples_split=12, n_estimators=500, total=  30.5s\n",
      "[CV] bootstrap=True, max_depth=61, max_features=2, min_samples_leaf=3, min_samples_split=8, n_estimators=100 \n",
      "[CV]  bootstrap=True, max_depth=61, max_features=2, min_samples_leaf=3, min_samples_split=8, n_estimators=100, total=   5.5s\n",
      "[CV] bootstrap=True, max_depth=61, max_features=2, min_samples_leaf=3, min_samples_split=8, n_estimators=100 \n",
      "[CV]  bootstrap=True, max_depth=61, max_features=2, min_samples_leaf=3, min_samples_split=8, n_estimators=100, total=   5.5s\n",
      "[CV] bootstrap=True, max_depth=61, max_features=2, min_samples_leaf=3, min_samples_split=8, n_estimators=100 \n",
      "[CV]  bootstrap=True, max_depth=61, max_features=2, min_samples_leaf=3, min_samples_split=8, n_estimators=100, total=   5.5s\n",
      "[CV] bootstrap=True, max_depth=61, max_features=2, min_samples_leaf=3, min_samples_split=8, n_estimators=500 \n",
      "[CV]  bootstrap=True, max_depth=61, max_features=2, min_samples_leaf=3, min_samples_split=8, n_estimators=500, total=  24.8s\n",
      "[CV] bootstrap=True, max_depth=61, max_features=2, min_samples_leaf=3, min_samples_split=8, n_estimators=500 \n",
      "[CV]  bootstrap=True, max_depth=61, max_features=2, min_samples_leaf=3, min_samples_split=8, n_estimators=500, total=  24.9s\n",
      "[CV] bootstrap=True, max_depth=61, max_features=2, min_samples_leaf=3, min_samples_split=8, n_estimators=500 \n",
      "[CV]  bootstrap=True, max_depth=61, max_features=2, min_samples_leaf=3, min_samples_split=8, n_estimators=500, total=  24.7s\n",
      "[CV] bootstrap=True, max_depth=61, max_features=2, min_samples_leaf=3, min_samples_split=12, n_estimators=100 \n",
      "[CV]  bootstrap=True, max_depth=61, max_features=2, min_samples_leaf=3, min_samples_split=12, n_estimators=100, total=   5.4s\n",
      "[CV] bootstrap=True, max_depth=61, max_features=2, min_samples_leaf=3, min_samples_split=12, n_estimators=100 \n",
      "[CV]  bootstrap=True, max_depth=61, max_features=2, min_samples_leaf=3, min_samples_split=12, n_estimators=100, total=   5.4s\n",
      "[CV] bootstrap=True, max_depth=61, max_features=2, min_samples_leaf=3, min_samples_split=12, n_estimators=100 \n",
      "[CV]  bootstrap=True, max_depth=61, max_features=2, min_samples_leaf=3, min_samples_split=12, n_estimators=100, total=   5.3s\n",
      "[CV] bootstrap=True, max_depth=61, max_features=2, min_samples_leaf=3, min_samples_split=12, n_estimators=500 \n",
      "[CV]  bootstrap=True, max_depth=61, max_features=2, min_samples_leaf=3, min_samples_split=12, n_estimators=500, total=  25.3s\n",
      "[CV] bootstrap=True, max_depth=61, max_features=2, min_samples_leaf=3, min_samples_split=12, n_estimators=500 \n",
      "[CV]  bootstrap=True, max_depth=61, max_features=2, min_samples_leaf=3, min_samples_split=12, n_estimators=500, total=  24.9s\n",
      "[CV] bootstrap=True, max_depth=61, max_features=2, min_samples_leaf=3, min_samples_split=12, n_estimators=500 \n",
      "[CV]  bootstrap=True, max_depth=61, max_features=2, min_samples_leaf=3, min_samples_split=12, n_estimators=500, total=  24.1s\n",
      "[CV] bootstrap=True, max_depth=61, max_features=2, min_samples_leaf=5, min_samples_split=8, n_estimators=100 \n",
      "[CV]  bootstrap=True, max_depth=61, max_features=2, min_samples_leaf=5, min_samples_split=8, n_estimators=100, total=   5.2s\n",
      "[CV] bootstrap=True, max_depth=61, max_features=2, min_samples_leaf=5, min_samples_split=8, n_estimators=100 \n",
      "[CV]  bootstrap=True, max_depth=61, max_features=2, min_samples_leaf=5, min_samples_split=8, n_estimators=100, total=   5.1s\n",
      "[CV] bootstrap=True, max_depth=61, max_features=2, min_samples_leaf=5, min_samples_split=8, n_estimators=100 \n",
      "[CV]  bootstrap=True, max_depth=61, max_features=2, min_samples_leaf=5, min_samples_split=8, n_estimators=100, total=   5.0s\n",
      "[CV] bootstrap=True, max_depth=61, max_features=2, min_samples_leaf=5, min_samples_split=8, n_estimators=500 \n",
      "[CV]  bootstrap=True, max_depth=61, max_features=2, min_samples_leaf=5, min_samples_split=8, n_estimators=500, total=  22.8s\n",
      "[CV] bootstrap=True, max_depth=61, max_features=2, min_samples_leaf=5, min_samples_split=8, n_estimators=500 \n",
      "[CV]  bootstrap=True, max_depth=61, max_features=2, min_samples_leaf=5, min_samples_split=8, n_estimators=500, total=  23.4s\n",
      "[CV] bootstrap=True, max_depth=61, max_features=2, min_samples_leaf=5, min_samples_split=8, n_estimators=500 \n",
      "[CV]  bootstrap=True, max_depth=61, max_features=2, min_samples_leaf=5, min_samples_split=8, n_estimators=500, total=  23.2s\n",
      "[CV] bootstrap=True, max_depth=61, max_features=2, min_samples_leaf=5, min_samples_split=12, n_estimators=100 \n",
      "[CV]  bootstrap=True, max_depth=61, max_features=2, min_samples_leaf=5, min_samples_split=12, n_estimators=100, total=   5.2s\n",
      "[CV] bootstrap=True, max_depth=61, max_features=2, min_samples_leaf=5, min_samples_split=12, n_estimators=100 \n",
      "[CV]  bootstrap=True, max_depth=61, max_features=2, min_samples_leaf=5, min_samples_split=12, n_estimators=100, total=   5.0s\n",
      "[CV] bootstrap=True, max_depth=61, max_features=2, min_samples_leaf=5, min_samples_split=12, n_estimators=100 \n",
      "[CV]  bootstrap=True, max_depth=61, max_features=2, min_samples_leaf=5, min_samples_split=12, n_estimators=100, total=   5.2s\n",
      "[CV] bootstrap=True, max_depth=61, max_features=2, min_samples_leaf=5, min_samples_split=12, n_estimators=500 \n",
      "[CV]  bootstrap=True, max_depth=61, max_features=2, min_samples_leaf=5, min_samples_split=12, n_estimators=500, total=  22.9s\n",
      "[CV] bootstrap=True, max_depth=61, max_features=2, min_samples_leaf=5, min_samples_split=12, n_estimators=500 \n",
      "[CV]  bootstrap=True, max_depth=61, max_features=2, min_samples_leaf=5, min_samples_split=12, n_estimators=500, total=  22.8s\n",
      "[CV] bootstrap=True, max_depth=61, max_features=2, min_samples_leaf=5, min_samples_split=12, n_estimators=500 \n",
      "[CV]  bootstrap=True, max_depth=61, max_features=2, min_samples_leaf=5, min_samples_split=12, n_estimators=500, total=  22.8s\n",
      "[CV] bootstrap=True, max_depth=61, max_features=3, min_samples_leaf=3, min_samples_split=8, n_estimators=100 \n",
      "[CV]  bootstrap=True, max_depth=61, max_features=3, min_samples_leaf=3, min_samples_split=8, n_estimators=100, total=   6.7s\n",
      "[CV] bootstrap=True, max_depth=61, max_features=3, min_samples_leaf=3, min_samples_split=8, n_estimators=100 \n",
      "[CV]  bootstrap=True, max_depth=61, max_features=3, min_samples_leaf=3, min_samples_split=8, n_estimators=100, total=   6.8s\n",
      "[CV] bootstrap=True, max_depth=61, max_features=3, min_samples_leaf=3, min_samples_split=8, n_estimators=100 \n",
      "[CV]  bootstrap=True, max_depth=61, max_features=3, min_samples_leaf=3, min_samples_split=8, n_estimators=100, total=   7.1s\n",
      "[CV] bootstrap=True, max_depth=61, max_features=3, min_samples_leaf=3, min_samples_split=8, n_estimators=500 \n",
      "[CV]  bootstrap=True, max_depth=61, max_features=3, min_samples_leaf=3, min_samples_split=8, n_estimators=500, total=  33.4s\n",
      "[CV] bootstrap=True, max_depth=61, max_features=3, min_samples_leaf=3, min_samples_split=8, n_estimators=500 \n",
      "[CV]  bootstrap=True, max_depth=61, max_features=3, min_samples_leaf=3, min_samples_split=8, n_estimators=500, total=  32.5s\n",
      "[CV] bootstrap=True, max_depth=61, max_features=3, min_samples_leaf=3, min_samples_split=8, n_estimators=500 \n",
      "[CV]  bootstrap=True, max_depth=61, max_features=3, min_samples_leaf=3, min_samples_split=8, n_estimators=500, total=  32.0s\n",
      "[CV] bootstrap=True, max_depth=61, max_features=3, min_samples_leaf=3, min_samples_split=12, n_estimators=100 \n",
      "[CV]  bootstrap=True, max_depth=61, max_features=3, min_samples_leaf=3, min_samples_split=12, n_estimators=100, total=   6.7s\n",
      "[CV] bootstrap=True, max_depth=61, max_features=3, min_samples_leaf=3, min_samples_split=12, n_estimators=100 \n",
      "[CV]  bootstrap=True, max_depth=61, max_features=3, min_samples_leaf=3, min_samples_split=12, n_estimators=100, total=   6.7s\n",
      "[CV] bootstrap=True, max_depth=61, max_features=3, min_samples_leaf=3, min_samples_split=12, n_estimators=100 \n",
      "[CV]  bootstrap=True, max_depth=61, max_features=3, min_samples_leaf=3, min_samples_split=12, n_estimators=100, total=   6.9s\n",
      "[CV] bootstrap=True, max_depth=61, max_features=3, min_samples_leaf=3, min_samples_split=12, n_estimators=500 \n",
      "[CV]  bootstrap=True, max_depth=61, max_features=3, min_samples_leaf=3, min_samples_split=12, n_estimators=500, total=  30.9s\n",
      "[CV] bootstrap=True, max_depth=61, max_features=3, min_samples_leaf=3, min_samples_split=12, n_estimators=500 \n",
      "[CV]  bootstrap=True, max_depth=61, max_features=3, min_samples_leaf=3, min_samples_split=12, n_estimators=500, total=  31.6s\n",
      "[CV] bootstrap=True, max_depth=61, max_features=3, min_samples_leaf=3, min_samples_split=12, n_estimators=500 \n",
      "[CV]  bootstrap=True, max_depth=61, max_features=3, min_samples_leaf=3, min_samples_split=12, n_estimators=500, total=  31.6s\n",
      "[CV] bootstrap=True, max_depth=61, max_features=3, min_samples_leaf=5, min_samples_split=8, n_estimators=100 \n",
      "[CV]  bootstrap=True, max_depth=61, max_features=3, min_samples_leaf=5, min_samples_split=8, n_estimators=100, total=   7.0s\n",
      "[CV] bootstrap=True, max_depth=61, max_features=3, min_samples_leaf=5, min_samples_split=8, n_estimators=100 \n",
      "[CV]  bootstrap=True, max_depth=61, max_features=3, min_samples_leaf=5, min_samples_split=8, n_estimators=100, total=   7.0s\n",
      "[CV] bootstrap=True, max_depth=61, max_features=3, min_samples_leaf=5, min_samples_split=8, n_estimators=100 \n",
      "[CV]  bootstrap=True, max_depth=61, max_features=3, min_samples_leaf=5, min_samples_split=8, n_estimators=100, total=   6.6s\n",
      "[CV] bootstrap=True, max_depth=61, max_features=3, min_samples_leaf=5, min_samples_split=8, n_estimators=500 \n",
      "[CV]  bootstrap=True, max_depth=61, max_features=3, min_samples_leaf=5, min_samples_split=8, n_estimators=500, total=  31.3s\n",
      "[CV] bootstrap=True, max_depth=61, max_features=3, min_samples_leaf=5, min_samples_split=8, n_estimators=500 \n",
      "[CV]  bootstrap=True, max_depth=61, max_features=3, min_samples_leaf=5, min_samples_split=8, n_estimators=500, total=  30.4s\n",
      "[CV] bootstrap=True, max_depth=61, max_features=3, min_samples_leaf=5, min_samples_split=8, n_estimators=500 \n",
      "[CV]  bootstrap=True, max_depth=61, max_features=3, min_samples_leaf=5, min_samples_split=8, n_estimators=500, total=  32.9s\n",
      "[CV] bootstrap=True, max_depth=61, max_features=3, min_samples_leaf=5, min_samples_split=12, n_estimators=100 \n",
      "[CV]  bootstrap=True, max_depth=61, max_features=3, min_samples_leaf=5, min_samples_split=12, n_estimators=100, total=   7.6s\n",
      "[CV] bootstrap=True, max_depth=61, max_features=3, min_samples_leaf=5, min_samples_split=12, n_estimators=100 \n",
      "[CV]  bootstrap=True, max_depth=61, max_features=3, min_samples_leaf=5, min_samples_split=12, n_estimators=100, total=   7.3s\n",
      "[CV] bootstrap=True, max_depth=61, max_features=3, min_samples_leaf=5, min_samples_split=12, n_estimators=100 \n",
      "[CV]  bootstrap=True, max_depth=61, max_features=3, min_samples_leaf=5, min_samples_split=12, n_estimators=100, total=   8.2s\n",
      "[CV] bootstrap=True, max_depth=61, max_features=3, min_samples_leaf=5, min_samples_split=12, n_estimators=500 \n",
      "[CV]  bootstrap=True, max_depth=61, max_features=3, min_samples_leaf=5, min_samples_split=12, n_estimators=500, total=  32.9s\n",
      "[CV] bootstrap=True, max_depth=61, max_features=3, min_samples_leaf=5, min_samples_split=12, n_estimators=500 \n",
      "[CV]  bootstrap=True, max_depth=61, max_features=3, min_samples_leaf=5, min_samples_split=12, n_estimators=500, total=  31.2s\n",
      "[CV] bootstrap=True, max_depth=61, max_features=3, min_samples_leaf=5, min_samples_split=12, n_estimators=500 \n",
      "[CV]  bootstrap=True, max_depth=61, max_features=3, min_samples_leaf=5, min_samples_split=12, n_estimators=500, total=  32.3s\n"
     ]
    },
    {
     "name": "stderr",
     "output_type": "stream",
     "text": [
      "[Parallel(n_jobs=1)]: Done 192 out of 192 | elapsed: 59.1min finished\n"
     ]
    },
    {
     "data": {
      "text/plain": [
       "GridSearchCV(cv=3, error_score='raise-deprecating',\n",
       "             estimator=RandomForestClassifier(bootstrap=True, class_weight=None,\n",
       "                                              criterion='gini', max_depth=None,\n",
       "                                              max_features='auto',\n",
       "                                              max_leaf_nodes=None,\n",
       "                                              min_impurity_decrease=0.0,\n",
       "                                              min_impurity_split=None,\n",
       "                                              min_samples_leaf=1,\n",
       "                                              min_samples_split=2,\n",
       "                                              min_weight_fraction_leaf=0.0,\n",
       "                                              n_estimators='warn', n_jobs=None,\n",
       "                                              oob_score=False,\n",
       "                                              random_state=None, verbose=0,\n",
       "                                              warm_start=False),\n",
       "             iid='warn', n_jobs=None,\n",
       "             param_grid=[{'bootstrap': [True],\n",
       "                          'max_depth': array([ 1, 21, 41, 61]),\n",
       "                          'max_features': [2, 3], 'min_samples_leaf': [3, 5],\n",
       "                          'min_samples_split': [8, 12],\n",
       "                          'n_estimators': [100, 500]}],\n",
       "             pre_dispatch='2*n_jobs', refit=True, return_train_score=False,\n",
       "             scoring=None, verbose=2)"
      ]
     },
     "execution_count": 29,
     "metadata": {},
     "output_type": "execute_result"
    }
   ],
   "source": [
    "# Perform the search\n",
    "RF_tuned_model = GridSearchCV(RandomForestClassifier(), RF_model_hyperparameters, cv=3, verbose = 2)\n",
    "RF_tuned_model.fit(X_train, Y_train)"
   ]
  },
  {
   "cell_type": "code",
   "execution_count": 30,
   "metadata": {},
   "outputs": [
    {
     "name": "stdout",
     "output_type": "stream",
     "text": [
      "0.8583333333333333\n"
     ]
    }
   ],
   "source": [
    "print(RF_tuned_model.best_score_)"
   ]
  },
  {
   "cell_type": "code",
   "execution_count": 31,
   "metadata": {
    "colab": {
     "base_uri": "https://localhost:8080/",
     "height": 35
    },
    "colab_type": "code",
    "id": "76AfEBPgQ1Z4",
    "outputId": "45e772c1-5a0d-469d-e3e5-487f5fdf2c0b"
   },
   "outputs": [
    {
     "name": "stdout",
     "output_type": "stream",
     "text": [
      "RandomForestClassifier(bootstrap=True, class_weight=None, criterion='gini',\n",
      "                       max_depth=41, max_features=3, max_leaf_nodes=None,\n",
      "                       min_impurity_decrease=0.0, min_impurity_split=None,\n",
      "                       min_samples_leaf=3, min_samples_split=8,\n",
      "                       min_weight_fraction_leaf=0.0, n_estimators=500,\n",
      "                       n_jobs=None, oob_score=False, random_state=None,\n",
      "                       verbose=0, warm_start=False)\n",
      "Accuracy: 0.8649\n"
     ]
    }
   ],
   "source": [
    "#The accuracy after hyperparameter tuning\n",
    "print(RF_tuned_model.best_estimator_)\n",
    "y_pred_RF = RF_tuned_model.predict(X_test)\n",
    "RF_confusion_tuned=confusion_matrix(Y_test, y_pred_RF)\n",
    "acc_tuned_RF=weighted_accuracy(RF_confusion_tuned)\n",
    "print(\"Accuracy: \" +  str(acc_tuned_RF))"
   ]
  },
  {
   "cell_type": "markdown",
   "metadata": {
    "colab_type": "text",
    "id": "Fw9Yh-1HLd17"
   },
   "source": [
    "# Multilayer perceptron"
   ]
  },
  {
   "cell_type": "code",
   "execution_count": 43,
   "metadata": {
    "colab": {
     "base_uri": "https://localhost:8080/",
     "height": 287
    },
    "colab_type": "code",
    "id": "pTsnuTYnLTBZ",
    "outputId": "b188a3d3-eeb9-4eb8-8c39-bdfea31ac471"
   },
   "outputs": [
    {
     "name": "stderr",
     "output_type": "stream",
     "text": [
      "C:\\ProgramData\\Anaconda3\\lib\\site-packages\\sklearn\\neural_network\\multilayer_perceptron.py:566: ConvergenceWarning: Stochastic Optimizer: Maximum iterations (200) reached and the optimization hasn't converged yet.\n",
      "  % self.max_iter, ConvergenceWarning)\n"
     ]
    },
    {
     "name": "stdout",
     "output_type": "stream",
     "text": [
      "classification accuracy on validation set is  0.8821822\n",
      "classification accuracy on test set is  0.8802\n"
     ]
    },
    {
     "data": {
      "image/png": "[encoded data removed]",
      "text/plain": [
       "<Figure size 720x504 with 1 Axes>"
      ]
     },
     "metadata": {
      "needs_background": "light"
     },
     "output_type": "display_data"
    },
    {
     "data": {
      "image/png": "[encoded data removed]",
      "text/plain": [
       "<Figure size 720x504 with 1 Axes>"
      ]
     },
     "metadata": {
      "needs_background": "light"
     },
     "output_type": "display_data"
    }
   ],
   "source": [
    "from sklearn.neural_network import MLPClassifier\n",
    "#set class_weight='balanced'\n",
    "\n",
    "MLP=MLPClassifier(hidden_layer_sizes=(100), activation='relu', solver='adam', alpha=0.0001, batch_size='auto', learning_rate='constant', learning_rate_init=0.001)\n",
    "MLP.fit(X_train, Y_train)\n",
    "Y_val_pred=MLP.predict(X_val)\n",
    "confusion_val=confusion_matrix(Y_val, Y_val_pred)\n",
    "acc_val=weighted_accuracy(confusion_val)\n",
    "#plot confusion matrix using seanborn to see the details of wrong classified\n",
    "plt.figure(figsize = (10, 7))\n",
    "sn.heatmap(confusion_val, annot=True,cbar=False, fmt='g')\n",
    "plt.xlabel('Predicted')\n",
    "plt.ylabel('Truth')\n",
    "#test accuracy\n",
    "Y_test_pred=MLP.predict(X_test)\n",
    "confusion_test=confusion_matrix(Y_test, Y_test_pred)\n",
    "acc_test=weighted_accuracy(confusion_test)\n",
    "#plot confusion matrix\n",
    "plt.figure(figsize = (10, 7))\n",
    "sn.heatmap(confusion_test, annot=True,cbar=False, fmt='g')\n",
    "plt.xlabel('Predicted')\n",
    "plt.ylabel('Truth')\n",
    "print('classification accuracy on validation set is ', acc_val)\n",
    "print('classification accuracy on test set is ', acc_test)"
   ]
  },
  {
   "cell_type": "code",
   "execution_count": 46,
   "metadata": {
    "colab": {},
    "colab_type": "code",
    "id": "cy3R4zHpNMB2"
   },
   "outputs": [],
   "source": [
    "# Set up the parameters\n",
    "MLP_model_hyperparameters = [\n",
    "  {'hidden_layer_sizes': [(200, 100), (400, 200, 100)], \n",
    "   'alpha': [0.0001,0.001,0.01,0.1],\n",
    "   'activation': [ 'tanh', 'relu'],\n",
    "   'solver':['adam']\n",
    "  }\n",
    "]"
   ]
  },
  {
   "cell_type": "code",
   "execution_count": 47,
   "metadata": {
    "colab": {
     "base_uri": "https://localhost:8080/",
     "height": 737
    },
    "colab_type": "code",
    "id": "I0ByWTltN2Cb",
    "outputId": "64773244-fc04-43bd-cb6d-2fb6a590cb98"
   },
   "outputs": [
    {
     "name": "stdout",
     "output_type": "stream",
     "text": [
      "Fitting 2 folds for each of 16 candidates, totalling 32 fits\n",
      "[CV] activation=tanh, alpha=0.0001, hidden_layer_sizes=(200, 100), solver=adam \n"
     ]
    },
    {
     "name": "stderr",
     "output_type": "stream",
     "text": [
      "[Parallel(n_jobs=1)]: Using backend SequentialBackend with 1 concurrent workers.\n"
     ]
    },
    {
     "name": "stdout",
     "output_type": "stream",
     "text": [
      "[CV]  activation=tanh, alpha=0.0001, hidden_layer_sizes=(200, 100), solver=adam, total= 3.3min\n",
      "[CV] activation=tanh, alpha=0.0001, hidden_layer_sizes=(200, 100), solver=adam \n"
     ]
    },
    {
     "name": "stderr",
     "output_type": "stream",
     "text": [
      "[Parallel(n_jobs=1)]: Done   1 out of   1 | elapsed:  3.3min remaining:    0.0s\n"
     ]
    },
    {
     "name": "stdout",
     "output_type": "stream",
     "text": [
      "[CV]  activation=tanh, alpha=0.0001, hidden_layer_sizes=(200, 100), solver=adam, total= 2.3min\n",
      "[CV] activation=tanh, alpha=0.0001, hidden_layer_sizes=(400, 200, 100), solver=adam \n",
      "[CV]  activation=tanh, alpha=0.0001, hidden_layer_sizes=(400, 200, 100), solver=adam, total= 4.4min\n",
      "[CV] activation=tanh, alpha=0.0001, hidden_layer_sizes=(400, 200, 100), solver=adam \n",
      "[CV]  activation=tanh, alpha=0.0001, hidden_layer_sizes=(400, 200, 100), solver=adam, total= 4.2min\n",
      "[CV] activation=tanh, alpha=0.001, hidden_layer_sizes=(200, 100), solver=adam \n",
      "[CV]  activation=tanh, alpha=0.001, hidden_layer_sizes=(200, 100), solver=adam, total= 2.6min\n",
      "[CV] activation=tanh, alpha=0.001, hidden_layer_sizes=(200, 100), solver=adam \n",
      "[CV]  activation=tanh, alpha=0.001, hidden_layer_sizes=(200, 100), solver=adam, total= 3.6min\n",
      "[CV] activation=tanh, alpha=0.001, hidden_layer_sizes=(400, 200, 100), solver=adam \n",
      "[CV]  activation=tanh, alpha=0.001, hidden_layer_sizes=(400, 200, 100), solver=adam, total= 4.1min\n",
      "[CV] activation=tanh, alpha=0.001, hidden_layer_sizes=(400, 200, 100), solver=adam \n",
      "[CV]  activation=tanh, alpha=0.001, hidden_layer_sizes=(400, 200, 100), solver=adam, total= 2.8min\n",
      "[CV] activation=tanh, alpha=0.01, hidden_layer_sizes=(200, 100), solver=adam \n",
      "[CV]  activation=tanh, alpha=0.01, hidden_layer_sizes=(200, 100), solver=adam, total= 2.7min\n",
      "[CV] activation=tanh, alpha=0.01, hidden_layer_sizes=(200, 100), solver=adam \n",
      "[CV]  activation=tanh, alpha=0.01, hidden_layer_sizes=(200, 100), solver=adam, total= 1.4min\n",
      "[CV] activation=tanh, alpha=0.01, hidden_layer_sizes=(400, 200, 100), solver=adam \n",
      "[CV]  activation=tanh, alpha=0.01, hidden_layer_sizes=(400, 200, 100), solver=adam, total= 4.3min\n",
      "[CV] activation=tanh, alpha=0.01, hidden_layer_sizes=(400, 200, 100), solver=adam \n",
      "[CV]  activation=tanh, alpha=0.01, hidden_layer_sizes=(400, 200, 100), solver=adam, total= 6.5min\n",
      "[CV] activation=tanh, alpha=0.1, hidden_layer_sizes=(200, 100), solver=adam \n",
      "[CV]  activation=tanh, alpha=0.1, hidden_layer_sizes=(200, 100), solver=adam, total= 3.6min\n",
      "[CV] activation=tanh, alpha=0.1, hidden_layer_sizes=(200, 100), solver=adam \n",
      "[CV]  activation=tanh, alpha=0.1, hidden_layer_sizes=(200, 100), solver=adam, total= 2.5min\n",
      "[CV] activation=tanh, alpha=0.1, hidden_layer_sizes=(400, 200, 100), solver=adam \n",
      "[CV]  activation=tanh, alpha=0.1, hidden_layer_sizes=(400, 200, 100), solver=adam, total= 6.3min\n",
      "[CV] activation=tanh, alpha=0.1, hidden_layer_sizes=(400, 200, 100), solver=adam \n",
      "[CV]  activation=tanh, alpha=0.1, hidden_layer_sizes=(400, 200, 100), solver=adam, total= 2.3min\n",
      "[CV] activation=relu, alpha=0.0001, hidden_layer_sizes=(200, 100), solver=adam \n",
      "[CV]  activation=relu, alpha=0.0001, hidden_layer_sizes=(200, 100), solver=adam, total= 2.2min\n",
      "[CV] activation=relu, alpha=0.0001, hidden_layer_sizes=(200, 100), solver=adam \n",
      "[CV]  activation=relu, alpha=0.0001, hidden_layer_sizes=(200, 100), solver=adam, total= 2.3min\n",
      "[CV] activation=relu, alpha=0.0001, hidden_layer_sizes=(400, 200, 100), solver=adam \n",
      "[CV]  activation=relu, alpha=0.0001, hidden_layer_sizes=(400, 200, 100), solver=adam, total= 5.2min\n",
      "[CV] activation=relu, alpha=0.0001, hidden_layer_sizes=(400, 200, 100), solver=adam \n",
      "[CV]  activation=relu, alpha=0.0001, hidden_layer_sizes=(400, 200, 100), solver=adam, total= 6.0min\n",
      "[CV] activation=relu, alpha=0.001, hidden_layer_sizes=(200, 100), solver=adam \n",
      "[CV]  activation=relu, alpha=0.001, hidden_layer_sizes=(200, 100), solver=adam, total= 2.8min\n",
      "[CV] activation=relu, alpha=0.001, hidden_layer_sizes=(200, 100), solver=adam \n",
      "[CV]  activation=relu, alpha=0.001, hidden_layer_sizes=(200, 100), solver=adam, total= 3.0min\n",
      "[CV] activation=relu, alpha=0.001, hidden_layer_sizes=(400, 200, 100), solver=adam \n",
      "[CV]  activation=relu, alpha=0.001, hidden_layer_sizes=(400, 200, 100), solver=adam, total= 5.0min\n",
      "[CV] activation=relu, alpha=0.001, hidden_layer_sizes=(400, 200, 100), solver=adam \n",
      "[CV]  activation=relu, alpha=0.001, hidden_layer_sizes=(400, 200, 100), solver=adam, total= 5.7min\n",
      "[CV] activation=relu, alpha=0.01, hidden_layer_sizes=(200, 100), solver=adam \n",
      "[CV]  activation=relu, alpha=0.01, hidden_layer_sizes=(200, 100), solver=adam, total= 2.5min\n",
      "[CV] activation=relu, alpha=0.01, hidden_layer_sizes=(200, 100), solver=adam \n",
      "[CV]  activation=relu, alpha=0.01, hidden_layer_sizes=(200, 100), solver=adam, total= 3.6min\n",
      "[CV] activation=relu, alpha=0.01, hidden_layer_sizes=(400, 200, 100), solver=adam \n",
      "[CV]  activation=relu, alpha=0.01, hidden_layer_sizes=(400, 200, 100), solver=adam, total= 5.9min\n",
      "[CV] activation=relu, alpha=0.01, hidden_layer_sizes=(400, 200, 100), solver=adam \n",
      "[CV]  activation=relu, alpha=0.01, hidden_layer_sizes=(400, 200, 100), solver=adam, total= 5.5min\n",
      "[CV] activation=relu, alpha=0.1, hidden_layer_sizes=(200, 100), solver=adam \n",
      "[CV]  activation=relu, alpha=0.1, hidden_layer_sizes=(200, 100), solver=adam, total= 4.1min\n",
      "[CV] activation=relu, alpha=0.1, hidden_layer_sizes=(200, 100), solver=adam \n",
      "[CV]  activation=relu, alpha=0.1, hidden_layer_sizes=(200, 100), solver=adam, total= 1.5min\n",
      "[CV] activation=relu, alpha=0.1, hidden_layer_sizes=(400, 200, 100), solver=adam \n",
      "[CV]  activation=relu, alpha=0.1, hidden_layer_sizes=(400, 200, 100), solver=adam, total= 5.3min\n",
      "[CV] activation=relu, alpha=0.1, hidden_layer_sizes=(400, 200, 100), solver=adam \n",
      "[CV]  activation=relu, alpha=0.1, hidden_layer_sizes=(400, 200, 100), solver=adam, total= 3.5min\n"
     ]
    },
    {
     "name": "stderr",
     "output_type": "stream",
     "text": [
      "[Parallel(n_jobs=1)]: Done  32 out of  32 | elapsed: 120.9min finished\n"
     ]
    },
    {
     "name": "stdout",
     "output_type": "stream",
     "text": [
      "Best parameters set found on development set:\n",
      "{'activation': 'tanh', 'alpha': 0.001, 'hidden_layer_sizes': (200, 100), 'solver': 'adam'}\n",
      "0.8866296296296297\n"
     ]
    }
   ],
   "source": [
    "# Perform the search\n",
    "MLP_tuned_model = GridSearchCV(MLPClassifier(), MLP_model_hyperparameters, cv=2, verbose = 2)\n",
    "MLP_tuned_model.fit(X_train, Y_train)\n",
    "\n",
    "# Print details\n",
    "print(\"Best parameters set found on development set:\")\n",
    "print(MLP_tuned_model.best_params_)\n",
    "hyperparameters_list = dict()\n",
    "hyperparameters_list[\"Tuned Logistic Regression\"] = MLP_tuned_model.best_params_\n",
    "print(MLP_tuned_model.best_score_)"
   ]
  },
  {
   "cell_type": "code",
   "execution_count": 48,
   "metadata": {
    "colab": {
     "base_uri": "https://localhost:8080/",
     "height": 302
    },
    "colab_type": "code",
    "id": "Mf_2TpPreS-4",
    "outputId": "14b5e4e4-f724-4d33-c40a-40f03214c10c"
   },
   "outputs": [
    {
     "name": "stdout",
     "output_type": "stream",
     "text": [
      "MLPClassifier(activation='tanh', alpha=0.001, batch_size='auto', beta_1=0.9,\n",
      "              beta_2=0.999, early_stopping=False, epsilon=1e-08,\n",
      "              hidden_layer_sizes=(200, 100), learning_rate='constant',\n",
      "              learning_rate_init=0.001, max_iter=200, momentum=0.9,\n",
      "              n_iter_no_change=10, nesterovs_momentum=True, power_t=0.5,\n",
      "              random_state=None, shuffle=True, solver='adam', tol=0.0001,\n",
      "              validation_fraction=0.1, verbose=False, warm_start=False)\n",
      "Accuracy: 0.8982999\n"
     ]
    }
   ],
   "source": [
    "#The accuracy after hyperparameter tuning\n",
    "print(MLP_tuned_model.best_estimator_)\n",
    "y_pred_MLP = MLP_tuned_model.predict(X_test)\n",
    "MLP_confusion_tuned=confusion_matrix(Y_test, y_pred_MLP)\n",
    "acc_tuned_MLP=weighted_accuracy(MLP_confusion_tuned)\n",
    "print(\"Accuracy: \" +  str(acc_tuned_MLP))"
   ]
  },
  {
   "cell_type": "markdown",
   "metadata": {
    "colab": {
     "base_uri": "https://localhost:8080/",
     "height": 35
    },
    "colab_type": "code",
    "id": "NRXeWtNmg0_T",
    "outputId": "015c5644-a93f-4f2e-86ca-5cf8171fad1d"
   },
   "source": [
    "# 2D Convolutional Neural Network"
   ]
  },
  {
   "cell_type": "code",
   "execution_count": 7,
   "metadata": {
    "colab": {},
    "colab_type": "code",
    "id": "V4w3XH5fg-HX"
   },
   "outputs": [
    {
     "name": "stderr",
     "output_type": "stream",
     "text": [
      "Using TensorFlow backend.\n"
     ]
    }
   ],
   "source": [
    "#Define the 2d cnn model\n",
    "from keras.models import Sequential\n",
    "from keras.layers import Convolution2D, Activation, BatchNormalization, MaxPooling2D, Dropout, Dense, Flatten, AveragePooling2D\n",
    "\n",
    "model = Sequential()\n",
    "\n",
    "model.add(Convolution2D(32, (3, 3), padding='same', input_shape=(28,28,1)))\n",
    "model.add(BatchNormalization())\n",
    "model.add(Activation('relu'))\n",
    "model.add(MaxPooling2D(pool_size=(2, 2), strides=None, padding='same'))\n",
    "model.add(Dropout(0.25))\n",
    "\n",
    "model.add(Convolution2D(64, (3, 3), padding='same'))\n",
    "model.add(BatchNormalization())\n",
    "model.add(Activation('relu'))\n",
    "model.add(MaxPooling2D(pool_size=(2, 2), strides=None, padding='same'))\n",
    "model.add(Dropout(0.25))\n",
    "\n",
    "model.add(Convolution2D(128, (3, 3), padding='same'))\n",
    "model.add(BatchNormalization())\n",
    "model.add(Activation('relu'))\n",
    "model.add(MaxPooling2D(pool_size=(2, 2), strides=None, padding='same'))\n",
    "model.add(Dropout(0.25))\n",
    "\n",
    "model.add(Convolution2D(256, (3, 3), padding='same'))\n",
    "model.add(BatchNormalization())\n",
    "model.add(Activation('relu'))\n",
    "model.add(MaxPooling2D(pool_size=(2, 2), strides=None, padding='same'))\n",
    "model.add(Dropout(0.25))\n",
    "\n",
    "model.add(Flatten())\n",
    "\n",
    "model.add(Dense(128))\n",
    "model.add(BatchNormalization())\n",
    "model.add(Activation('relu'))\n",
    "model.add(Dropout(0.25))\n",
    "\n",
    "model.add(Dense(64))\n",
    "model.add(BatchNormalization())\n",
    "model.add(Activation('relu'))\n",
    "model.add(Dropout(0.25))\n",
    "\n",
    "model.add(Dense(10))\n",
    "model.add(Activation('softmax'))"
   ]
  },
  {
   "cell_type": "code",
   "execution_count": 8,
   "metadata": {},
   "outputs": [
    {
     "name": "stdout",
     "output_type": "stream",
     "text": [
      "Model: \"sequential_1\"\n",
      "_________________________________________________________________\n",
      "Layer (type)                 Output Shape              Param #   \n",
      "=================================================================\n",
      "conv2d_1 (Conv2D)            (None, 28, 28, 32)        320       \n",
      "_________________________________________________________________\n",
      "batch_normalization_1 (Batch (None, 28, 28, 32)        128       \n",
      "_________________________________________________________________\n",
      "activation_1 (Activation)    (None, 28, 28, 32)        0         \n",
      "_________________________________________________________________\n",
      "max_pooling2d_1 (MaxPooling2 (None, 14, 14, 32)        0         \n",
      "_________________________________________________________________\n",
      "dropout_1 (Dropout)          (None, 14, 14, 32)        0         \n",
      "_________________________________________________________________\n",
      "conv2d_2 (Conv2D)            (None, 14, 14, 64)        18496     \n",
      "_________________________________________________________________\n",
      "batch_normalization_2 (Batch (None, 14, 14, 64)        256       \n",
      "_________________________________________________________________\n",
      "activation_2 (Activation)    (None, 14, 14, 64)        0         \n",
      "_________________________________________________________________\n",
      "max_pooling2d_2 (MaxPooling2 (None, 7, 7, 64)          0         \n",
      "_________________________________________________________________\n",
      "dropout_2 (Dropout)          (None, 7, 7, 64)          0         \n",
      "_________________________________________________________________\n",
      "conv2d_3 (Conv2D)            (None, 7, 7, 128)         73856     \n",
      "_________________________________________________________________\n",
      "batch_normalization_3 (Batch (None, 7, 7, 128)         512       \n",
      "_________________________________________________________________\n",
      "activation_3 (Activation)    (None, 7, 7, 128)         0         \n",
      "_________________________________________________________________\n",
      "max_pooling2d_3 (MaxPooling2 (None, 4, 4, 128)         0         \n",
      "_________________________________________________________________\n",
      "dropout_3 (Dropout)          (None, 4, 4, 128)         0         \n",
      "_________________________________________________________________\n",
      "conv2d_4 (Conv2D)            (None, 4, 4, 256)         295168    \n",
      "_________________________________________________________________\n",
      "batch_normalization_4 (Batch (None, 4, 4, 256)         1024      \n",
      "_________________________________________________________________\n",
      "activation_4 (Activation)    (None, 4, 4, 256)         0         \n",
      "_________________________________________________________________\n",
      "max_pooling2d_4 (MaxPooling2 (None, 2, 2, 256)         0         \n",
      "_________________________________________________________________\n",
      "dropout_4 (Dropout)          (None, 2, 2, 256)         0         \n",
      "_________________________________________________________________\n",
      "flatten_1 (Flatten)          (None, 1024)              0         \n",
      "_________________________________________________________________\n",
      "dense_1 (Dense)              (None, 128)               131200    \n",
      "_________________________________________________________________\n",
      "batch_normalization_5 (Batch (None, 128)               512       \n",
      "_________________________________________________________________\n",
      "activation_5 (Activation)    (None, 128)               0         \n",
      "_________________________________________________________________\n",
      "dropout_5 (Dropout)          (None, 128)               0         \n",
      "_________________________________________________________________\n",
      "dense_2 (Dense)              (None, 64)                8256      \n",
      "_________________________________________________________________\n",
      "batch_normalization_6 (Batch (None, 64)                256       \n",
      "_________________________________________________________________\n",
      "activation_6 (Activation)    (None, 64)                0         \n",
      "_________________________________________________________________\n",
      "dropout_6 (Dropout)          (None, 64)                0         \n",
      "_________________________________________________________________\n",
      "dense_3 (Dense)              (None, 10)                650       \n",
      "_________________________________________________________________\n",
      "activation_7 (Activation)    (None, 10)                0         \n",
      "=================================================================\n",
      "Total params: 530,634\n",
      "Trainable params: 529,290\n",
      "Non-trainable params: 1,344\n",
      "_________________________________________________________________\n"
     ]
    }
   ],
   "source": [
    "#visualize the model\n",
    "model.summary()"
   ]
  },
  {
   "cell_type": "code",
   "execution_count": 9,
   "metadata": {},
   "outputs": [],
   "source": [
    "#compile the model using the categorical cross entropy loss function and the optimizer defined the learning rate\n",
    "model.compile(loss='categorical_crossentropy', optimizer='adam', metrics=['accuracy'])"
   ]
  },
  {
   "cell_type": "code",
   "execution_count": 29,
   "metadata": {},
   "outputs": [],
   "source": [
    "#conver the data to fit the model\n",
    "X_train = X_train.reshape(X_train.shape[0], 28, 28, 1)\n",
    "#X_test = X_test.reshape(X_test.shape[0], 28, 28, 1)\n",
    "X_val = X_val.reshape(X_val.shape[0], 28, 28, 1)"
   ]
  },
  {
   "cell_type": "code",
   "execution_count": 31,
   "metadata": {},
   "outputs": [],
   "source": [
    "from keras.utils import np_utils\n",
    "\n",
    "num_classes = 10\n",
    "\n",
    "Y_train = np_utils.to_categorical(Y_train, num_classes)\n",
    "#Y_test = np_utils.to_categorical(Y_test, num_classes)\n",
    "Y_val = np_utils.to_categorical(Y_val, num_classes)"
   ]
  },
  {
   "cell_type": "markdown",
   "metadata": {},
   "source": [
    "create lists to store the loss and accuracys"
   ]
  },
  {
   "cell_type": "code",
   "execution_count": 32,
   "metadata": {},
   "outputs": [],
   "source": [
    "loss_train_list=[]\n",
    "loss_val_list=[]\n",
    "acc_train_list=[]\n",
    "acc_val_list=[]"
   ]
  },
  {
   "cell_type": "code",
   "execution_count": 34,
   "metadata": {},
   "outputs": [],
   "source": [
    "def test_acc(model, X, Y):\n",
    "    acc_test =0 \n",
    "    num_classes=2\n",
    "    confusion=np.zeros((num_classes,num_classes), dtype=np.int64)\n",
    "    Yp=model.predict(X, batch_size=64)\n",
    "    Y=Y.astype('int64')\n",
    "    #0.5 is the threshold for classification\n",
    "    Yp=(Yp.squeeze()>0.5).astype('int64')\n",
    "    for i in range(0, num_classes):\n",
    "        for j in range(0, num_classes):\n",
    "            confusion[i,j]+=np.sum((Y==i)&(Yp==j)).astype('int64') \n",
    "    acc_test=weighted_accuracy(confusion)\n",
    "    return acc_test, confusion"
   ]
  },
  {
   "cell_type": "code",
   "execution_count": 38,
   "metadata": {},
   "outputs": [
    {
     "name": "stdout",
     "output_type": "stream",
     "text": [
      "epoch 0\n",
      "Train on 54000 samples, validate on 6000 samples\n",
      "Epoch 1/1\n",
      "54000/54000 [==============================] - 124s 2ms/step - loss: 0.1861 - accuracy: 0.9322 - val_loss: 0.2045 - val_accuracy: 0.9257\n",
      "epoch 1\n",
      "Train on 54000 samples, validate on 6000 samples\n",
      "Epoch 1/1\n",
      "54000/54000 [==============================] - 123s 2ms/step - loss: 0.1846 - accuracy: 0.9330 - val_loss: 0.1908 - val_accuracy: 0.9323\n",
      "epoch 2\n",
      "Train on 54000 samples, validate on 6000 samples\n",
      "Epoch 1/1\n",
      "54000/54000 [==============================] - 123s 2ms/step - loss: 0.1828 - accuracy: 0.9338 - val_loss: 0.1803 - val_accuracy: 0.9362\n",
      "epoch 3\n",
      "Train on 54000 samples, validate on 6000 samples\n",
      "Epoch 1/1\n",
      "54000/54000 [==============================] - 122s 2ms/step - loss: 0.1804 - accuracy: 0.9337 - val_loss: 0.1901 - val_accuracy: 0.9332\n",
      "epoch 4\n",
      "Train on 54000 samples, validate on 6000 samples\n",
      "Epoch 1/1\n",
      "54000/54000 [==============================] - 122s 2ms/step - loss: 0.1771 - accuracy: 0.9359 - val_loss: 0.1804 - val_accuracy: 0.9357\n",
      "epoch 5\n",
      "Train on 54000 samples, validate on 6000 samples\n",
      "Epoch 1/1\n",
      "54000/54000 [==============================] - 122s 2ms/step - loss: 0.1748 - accuracy: 0.9354 - val_loss: 0.1936 - val_accuracy: 0.9298\n",
      "epoch 6\n",
      "Train on 54000 samples, validate on 6000 samples\n",
      "Epoch 1/1\n",
      "54000/54000 [==============================] - 119s 2ms/step - loss: 0.1762 - accuracy: 0.9353 - val_loss: 0.1922 - val_accuracy: 0.9310\n",
      "epoch 7\n",
      "Train on 54000 samples, validate on 6000 samples\n",
      "Epoch 1/1\n",
      "54000/54000 [==============================] - 119s 2ms/step - loss: 0.1728 - accuracy: 0.9370 - val_loss: 0.2124 - val_accuracy: 0.9205\n",
      "epoch 8\n",
      "Train on 54000 samples, validate on 6000 samples\n",
      "Epoch 1/1\n",
      "54000/54000 [==============================] - 119s 2ms/step - loss: 0.1697 - accuracy: 0.9379 - val_loss: 0.1948 - val_accuracy: 0.9315\n",
      "epoch 9\n",
      "Train on 54000 samples, validate on 6000 samples\n",
      "Epoch 1/1\n",
      "54000/54000 [==============================] - 117s 2ms/step - loss: 0.1680 - accuracy: 0.9390 - val_loss: 0.2290 - val_accuracy: 0.9158\n",
      "epoch 10\n",
      "Train on 54000 samples, validate on 6000 samples\n",
      "Epoch 1/1\n",
      "54000/54000 [==============================] - 117s 2ms/step - loss: 0.1682 - accuracy: 0.9374 - val_loss: 0.1886 - val_accuracy: 0.9367\n",
      "epoch 11\n",
      "Train on 54000 samples, validate on 6000 samples\n",
      "Epoch 1/1\n",
      "54000/54000 [==============================] - 122s 2ms/step - loss: 0.1645 - accuracy: 0.9393 - val_loss: 0.1955 - val_accuracy: 0.9333\n",
      "epoch 12\n",
      "Train on 54000 samples, validate on 6000 samples\n",
      "Epoch 1/1\n",
      "54000/54000 [==============================] - 118s 2ms/step - loss: 0.1617 - accuracy: 0.9392 - val_loss: 0.1819 - val_accuracy: 0.9372\n",
      "epoch 13\n",
      "Train on 54000 samples, validate on 6000 samples\n",
      "Epoch 1/1\n",
      "54000/54000 [==============================] - 122s 2ms/step - loss: 0.1612 - accuracy: 0.9406 - val_loss: 0.1918 - val_accuracy: 0.9325\n",
      "epoch 14\n",
      "Train on 54000 samples, validate on 6000 samples\n",
      "Epoch 1/1\n",
      "54000/54000 [==============================] - 121s 2ms/step - loss: 0.1605 - accuracy: 0.9414 - val_loss: 0.1805 - val_accuracy: 0.9360\n",
      "epoch 15\n",
      "Train on 54000 samples, validate on 6000 samples\n",
      "Epoch 1/1\n",
      "54000/54000 [==============================] - 120s 2ms/step - loss: 0.1569 - accuracy: 0.9421 - val_loss: 0.1904 - val_accuracy: 0.9343\n",
      "epoch 16\n",
      "Train on 54000 samples, validate on 6000 samples\n",
      "Epoch 1/1\n",
      "54000/54000 [==============================] - 118s 2ms/step - loss: 0.1583 - accuracy: 0.9410 - val_loss: 0.2066 - val_accuracy: 0.9275\n",
      "epoch 17\n",
      "Train on 54000 samples, validate on 6000 samples\n",
      "Epoch 1/1\n",
      "54000/54000 [==============================] - 118s 2ms/step - loss: 0.1538 - accuracy: 0.9419 - val_loss: 0.1852 - val_accuracy: 0.9350\n",
      "epoch 18\n",
      "Train on 54000 samples, validate on 6000 samples\n",
      "Epoch 1/1\n",
      "54000/54000 [==============================] - 118s 2ms/step - loss: 0.1560 - accuracy: 0.9431 - val_loss: 0.1876 - val_accuracy: 0.9362\n",
      "epoch 19\n",
      "Train on 54000 samples, validate on 6000 samples\n",
      "Epoch 1/1\n",
      "54000/54000 [==============================] - 118s 2ms/step - loss: 0.1556 - accuracy: 0.9428 - val_loss: 0.2008 - val_accuracy: 0.9283\n",
      "epoch 20\n",
      "Train on 54000 samples, validate on 6000 samples\n",
      "Epoch 1/1\n",
      "54000/54000 [==============================] - 117s 2ms/step - loss: 0.1529 - accuracy: 0.9434 - val_loss: 0.1930 - val_accuracy: 0.9357\n",
      "epoch 21\n",
      "Train on 54000 samples, validate on 6000 samples\n",
      "Epoch 1/1\n",
      "54000/54000 [==============================] - 122s 2ms/step - loss: 0.1518 - accuracy: 0.9437 - val_loss: 0.1925 - val_accuracy: 0.9370\n",
      "epoch 22\n",
      "Train on 54000 samples, validate on 6000 samples\n",
      "Epoch 1/1\n",
      "54000/54000 [==============================] - 120s 2ms/step - loss: 0.1481 - accuracy: 0.9456 - val_loss: 0.1909 - val_accuracy: 0.9318\n",
      "epoch 23\n",
      "Train on 54000 samples, validate on 6000 samples\n",
      "Epoch 1/1\n",
      "54000/54000 [==============================] - 117s 2ms/step - loss: 0.1512 - accuracy: 0.9450 - val_loss: 0.1890 - val_accuracy: 0.9358\n",
      "epoch 24\n",
      "Train on 54000 samples, validate on 6000 samples\n",
      "Epoch 1/1\n",
      "54000/54000 [==============================] - 119s 2ms/step - loss: 0.1471 - accuracy: 0.9454 - val_loss: 0.1903 - val_accuracy: 0.9373\n"
     ]
    }
   ],
   "source": [
    "for epoch in range(0, 25):   \n",
    "    print('epoch', epoch)\n",
    "    #set epochs=1\n",
    "    history=model.fit(X_train, Y_train, batch_size=64, epochs=1, validation_data=(X_val, Y_val))\n",
    "    loss_train_list.extend(history.history['loss'])\n",
    "    loss_val_list.extend(history.history['val_loss'])\n",
    "    acc_train_list.extend(history.history['accuracy'])\n",
    "    #acc_val_list.extend(history.history['val_accuracy'])\n",
    "    acc_val, confusion_val=test_acc(model, X_val, Y_val)\n",
    "    acc_val_list.append(acc_val)\n",
    "    #save the model to a a HDF5 file \n",
    "    model.save('fashion_mnist'+str(epoch)+'.h5')"
   ]
  },
  {
   "cell_type": "code",
   "execution_count": 39,
   "metadata": {},
   "outputs": [
    {
     "data": {
      "image/png": "[encoded data removed]",
      "text/plain": [
       "<Figure size 864x432 with 2 Axes>"
      ]
     },
     "metadata": {
      "needs_background": "light"
     },
     "output_type": "display_data"
    }
   ],
   "source": [
    "#plot the accuracy vs epochs times relations\n",
    "fig, ax = plt.subplots(1, 2, figsize=(12,6))\n",
    "ax[0].plot(np.arange(0,len(loss_train_list)), loss_train_list, '-b', label='training loss')\n",
    "ax[0].plot(np.arange(0,len(loss_val_list)), loss_val_list, '-r', label='validation loss')\n",
    "ax[0].set_xlabel('epoch',fontsize=16)\n",
    "ax[0].legend(fontsize=16)\n",
    "ax[0].grid(True)\n",
    "ax[1].plot(np.arange(0,len(acc_train_list)), acc_train_list, '-b', label='training accuracy')\n",
    "ax[1].plot(np.arange(0,len(acc_val_list)), acc_val_list, '-r', label='val accuracy (weighted)')\n",
    "ax[1].set_xlabel('epoch',fontsize=16)\n",
    "ax[1].legend(fontsize=16)\n",
    "ax[1].grid(True)"
   ]
  },
  {
   "cell_type": "code",
   "execution_count": 41,
   "metadata": {},
   "outputs": [],
   "source": [
    "#load the best model from the training\n",
    "from keras.models import load_model\n",
    "model = load_model('fashion_mnist24.h5')"
   ]
  },
  {
   "cell_type": "code",
   "execution_count": 42,
   "metadata": {},
   "outputs": [
    {
     "name": "stdout",
     "output_type": "stream",
     "text": [
      "Test loss: 0.18335752391461282\n",
      "Test accuracy: 0.9355999827384949\n"
     ]
    }
   ],
   "source": [
    "#test the model's accuracy\n",
    "score = model.evaluate(X_test, Y_test, batch_size=64, verbose=0)\n",
    "print('Test loss:', score[0])\n",
    "print('Test accuracy:', score[1])"
   ]
  },
  {
   "cell_type": "code",
   "execution_count": 44,
   "metadata": {},
   "outputs": [
    {
     "name": "stdout",
     "output_type": "stream",
     "text": [
      "Test accuracy (weighted) 0.9627778\n",
      "confusion_test [[89402   598]\n",
      " [  678  9322]]\n"
     ]
    }
   ],
   "source": [
    "# Get the weighted accuracy from the model\n",
    "acc_test_2DCNN, confusion_test=test_acc(model, X_test, Y_test)\n",
    "print('Test accuracy (weighted)', acc_test_2DCNN)\n",
    "print('confusion_test', confusion_test)"
   ]
  },
  {
   "cell_type": "code",
   "execution_count": 47,
   "metadata": {},
   "outputs": [],
   "source": [
    "accuracy_list =  {'Logistic Regression': acc_tuned, 'Random Forest': acc_tuned_RF,\n",
    "                  'Multilayer Perceptron': acc_tuned_MLP,'2D CNN': acc_test_2DCNN}"
   ]
  },
  {
   "cell_type": "code",
   "execution_count": 48,
   "metadata": {},
   "outputs": [
    {
     "data": {
      "image/png": "[encoded data removed]",
      "text/plain": [
       "<Figure size 432x288 with 1 Axes>"
      ]
     },
     "metadata": {
      "needs_background": "light"
     },
     "output_type": "display_data"
    }
   ],
   "source": [
    "plt.xlim(0, 1.0)\n",
    "_ = plt.barh(range(len(accuracy_list)), list(accuracy_list.values()), align='center')\n",
    "_ = plt.yticks(range(len(accuracy_list)), list(accuracy_list.keys()))"
   ]
  },
  {
   "cell_type": "markdown",
   "metadata": {},
   "source": [
    "The best accuracy we get is from 2D CNN model, which is 96.28%. "
   ]
  },
  {
   "cell_type": "code",
   "execution_count": null,
   "metadata": {},
   "outputs": [],
   "source": []
  }
 ],
 "metadata": {
  "colab": {
   "collapsed_sections": [],
   "name": "fashion_mnist_598project (1).ipynb",
   "provenance": []
  },
  "kernelspec": {
   "display_name": "Python 3",
   "language": "python",
   "name": "python3"
  },
  "language_info": {
   "codemirror_mode": {
    "name": "ipython",
    "version": 3
   },
   "file_extension": ".py",
   "mimetype": "text/x-python",
   "name": "python",
   "nbconvert_exporter": "python",
   "pygments_lexer": "ipython3",
   "version": "3.7.4"
  }
 },
 "nbformat": 4,
 "nbformat_minor": 1
}
